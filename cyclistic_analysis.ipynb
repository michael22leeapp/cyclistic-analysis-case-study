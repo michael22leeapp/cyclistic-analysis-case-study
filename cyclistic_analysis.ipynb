{
 "cells": [
  {
   "cell_type": "markdown",
   "id": "b66c597f-36a3-4914-8009-fa51a3e87607",
   "metadata": {},
   "source": [
    "# Cyclistic Bike-share Analysis Case Study\n",
    "#### Michael Lee\n",
    "#### 6/8/2025"
   ]
  },
  {
   "cell_type": "markdown",
   "id": "f6869ffe-9840-4892-bec0-08636ebf897a",
   "metadata": {},
   "source": [
    "## Scenario\n",
    "You are a junior data analyst working on the marketing analytics team at Cyclistic, a fictional bike-share company in Chicago. The company offers flexible pricing plans: single-ride, full-day passes, and annual memberships.\n",
    "\n",
    "The marketing director, Lily Moreno, believes future growth depends on converting casual riders (those who use single-ride and day passes) into annual members. Your team has been tasked with analyzing trip data to uncover how casual riders and annual members use Cyclistic bikes differently. These insights will inform marketing strategies aimed at increasing memberships."
   ]
  },
  {
   "cell_type": "markdown",
   "id": "c98c8abe-4027-4077-a3c1-944729c3ecc6",
   "metadata": {},
   "source": [
    "## 01. ASK - Identify business task"
   ]
  },
  {
   "cell_type": "markdown",
   "id": "89ab8bf9-fa97-49a8-89ee-0b0d44847bd7",
   "metadata": {},
   "source": [
    "**Guiding question**: How do we convert casual riders into annual members?\n",
    "\n",
    "**Business task**: Analyze how casual riders and annual members use Cyclistic bikes differently to support a marketing strategy that converts casual riders into annual members.\n",
    "\n",
    "**Key stakeholders**: Lily Moreno (Director of marketing), Cyclistic executives, marketing analytics team, customers"
   ]
  },
  {
   "cell_type": "markdown",
   "id": "fc689aeb-9bb9-441d-b509-2cfba2e717c7",
   "metadata": {},
   "source": [
    "## 02. PREPARE - Load the datasets and verify data integrity"
   ]
  },
  {
   "cell_type": "code",
   "execution_count": 107,
   "id": "146c90cc-0a47-4520-bbfc-9748ede5b410",
   "metadata": {},
   "outputs": [],
   "source": [
    "# Import necessary packages\n",
    "import pandas as pd\n",
    "import zipfile\n",
    "import os\n",
    "from datetime import datetime\n",
    "import matplotlib.pyplot as plt\n",
    "import matplotlib.ticker as mtick\n",
    "import numpy as np\n",
    "import folium\n",
    "from folium.plugins import MarkerCluster"
   ]
  },
  {
   "cell_type": "markdown",
   "id": "1ea8916d-d164-47af-90c7-acfb21ee701a",
   "metadata": {},
   "source": [
    "Instead of manually unzipping and modifying each file, opting to access the data in its zipped format offers a more efficient process. Not only is it quicker, it also avoids any risks of data loss when unzipping and saving in different formats."
   ]
  },
  {
   "cell_type": "code",
   "execution_count": 108,
   "id": "d993e02c-825e-4aea-8aa2-ce1867b08c54",
   "metadata": {},
   "outputs": [
    {
     "name": "stdout",
     "output_type": "stream",
     "text": [
      "dict_keys(['df_2405', 'df_2406', 'df_2407', 'df_2408', 'df_2409', 'df_2410', 'df_2411', 'df_2412', 'df_2501', 'df_2502', 'df_2503', 'df_2504'])\n"
     ]
    }
   ],
   "source": [
    "# Path to folder with downloaded Divvy data zip files\n",
    "zip_folder = '../Datasets/zip_files/'\n",
    "    \n",
    "# Get all zip files in the folder\n",
    "zip_files = [f for f in os.listdir(zip_folder) if f.endswith('.zip')]\n",
    "# To store dataframes\n",
    "df_dict = {}\n",
    "\n",
    "# Loop through each zip file and load the CSVs\n",
    "for zip_file in zip_files:\n",
    "    zip_path = os.path.join(zip_folder, zip_file)\n",
    "    with zipfile.ZipFile(zip_path, 'r') as z:\n",
    "        for filename in z.namelist():\n",
    "            if filename.endswith('.csv') and not filename.startswith('__MACOSX/'):\n",
    "                df = pd.read_csv(z.open(filename))\n",
    "                # Extract the YYMM from the filename for key\n",
    "                base_name = os.path.splitext(zip_file)[0] \n",
    "                yyyymm = base_name.split('-')[0] \n",
    "                key = f\"df_{yyyymm[2:]}\"\n",
    "                df_dict[key] = df\n",
    "                break\n",
    "\n",
    "print(df_dict.keys()) # List each key (dataset) in the dictionary"
   ]
  },
  {
   "cell_type": "markdown",
   "id": "4ab4692b-a02c-46ea-870c-8e60d179082e",
   "metadata": {},
   "source": [
    "A quick look at one of the datasets:"
   ]
  },
  {
   "cell_type": "code",
   "execution_count": 3,
   "id": "5288f946-85b1-4699-ac67-b3133b60b0e7",
   "metadata": {},
   "outputs": [
    {
     "data": {
      "text/html": [
       "<div>\n",
       "<style scoped>\n",
       "    .dataframe tbody tr th:only-of-type {\n",
       "        vertical-align: middle;\n",
       "    }\n",
       "\n",
       "    .dataframe tbody tr th {\n",
       "        vertical-align: top;\n",
       "    }\n",
       "\n",
       "    .dataframe thead th {\n",
       "        text-align: right;\n",
       "    }\n",
       "</style>\n",
       "<table border=\"1\" class=\"dataframe\">\n",
       "  <thead>\n",
       "    <tr style=\"text-align: right;\">\n",
       "      <th></th>\n",
       "      <th>ride_id</th>\n",
       "      <th>rideable_type</th>\n",
       "      <th>started_at</th>\n",
       "      <th>ended_at</th>\n",
       "      <th>start_station_name</th>\n",
       "      <th>start_station_id</th>\n",
       "      <th>end_station_name</th>\n",
       "      <th>end_station_id</th>\n",
       "      <th>start_lat</th>\n",
       "      <th>start_lng</th>\n",
       "      <th>end_lat</th>\n",
       "      <th>end_lng</th>\n",
       "      <th>member_casual</th>\n",
       "    </tr>\n",
       "  </thead>\n",
       "  <tbody>\n",
       "    <tr>\n",
       "      <th>0</th>\n",
       "      <td>7D9F0CE9EC2A1297</td>\n",
       "      <td>classic_bike</td>\n",
       "      <td>2024-05-25 15:52:42</td>\n",
       "      <td>2024-05-25 16:11:50</td>\n",
       "      <td>Streeter Dr &amp; Grand Ave</td>\n",
       "      <td>13022</td>\n",
       "      <td>Clark St &amp; Elm St</td>\n",
       "      <td>TA1307000039</td>\n",
       "      <td>41.892278</td>\n",
       "      <td>-87.612043</td>\n",
       "      <td>41.902973</td>\n",
       "      <td>-87.631280</td>\n",
       "      <td>casual</td>\n",
       "    </tr>\n",
       "    <tr>\n",
       "      <th>1</th>\n",
       "      <td>02EC47687411416F</td>\n",
       "      <td>classic_bike</td>\n",
       "      <td>2024-05-14 15:11:51</td>\n",
       "      <td>2024-05-14 15:22:00</td>\n",
       "      <td>Sheridan Rd &amp; Greenleaf Ave</td>\n",
       "      <td>KA1504000159</td>\n",
       "      <td>Sheridan Rd &amp; Loyola Ave</td>\n",
       "      <td>RP-009</td>\n",
       "      <td>42.010587</td>\n",
       "      <td>-87.662412</td>\n",
       "      <td>42.001044</td>\n",
       "      <td>-87.661198</td>\n",
       "      <td>casual</td>\n",
       "    </tr>\n",
       "    <tr>\n",
       "      <th>2</th>\n",
       "      <td>101370FB2D3402BE</td>\n",
       "      <td>classic_bike</td>\n",
       "      <td>2024-05-30 17:46:04</td>\n",
       "      <td>2024-05-30 18:09:16</td>\n",
       "      <td>Streeter Dr &amp; Grand Ave</td>\n",
       "      <td>13022</td>\n",
       "      <td>Wabash Ave &amp; 9th St</td>\n",
       "      <td>TA1309000010</td>\n",
       "      <td>41.892278</td>\n",
       "      <td>-87.612043</td>\n",
       "      <td>41.870769</td>\n",
       "      <td>-87.625734</td>\n",
       "      <td>member</td>\n",
       "    </tr>\n",
       "    <tr>\n",
       "      <th>3</th>\n",
       "      <td>E97E396331ED6913</td>\n",
       "      <td>electric_bike</td>\n",
       "      <td>2024-05-17 20:21:54</td>\n",
       "      <td>2024-05-17 20:40:32</td>\n",
       "      <td>Streeter Dr &amp; Grand Ave</td>\n",
       "      <td>13022</td>\n",
       "      <td>Sheffield Ave &amp; Wellington Ave</td>\n",
       "      <td>TA1307000052</td>\n",
       "      <td>41.892270</td>\n",
       "      <td>-87.611946</td>\n",
       "      <td>41.936253</td>\n",
       "      <td>-87.652662</td>\n",
       "      <td>member</td>\n",
       "    </tr>\n",
       "    <tr>\n",
       "      <th>4</th>\n",
       "      <td>674EDE311C543165</td>\n",
       "      <td>classic_bike</td>\n",
       "      <td>2024-05-22 18:52:20</td>\n",
       "      <td>2024-05-22 18:59:04</td>\n",
       "      <td>Larrabee St &amp; Division St</td>\n",
       "      <td>KA1504000079</td>\n",
       "      <td>Clark St &amp; Elm St</td>\n",
       "      <td>TA1307000039</td>\n",
       "      <td>41.903486</td>\n",
       "      <td>-87.643353</td>\n",
       "      <td>41.902973</td>\n",
       "      <td>-87.631280</td>\n",
       "      <td>casual</td>\n",
       "    </tr>\n",
       "  </tbody>\n",
       "</table>\n",
       "</div>"
      ],
      "text/plain": [
       "            ride_id  rideable_type           started_at             ended_at  \\\n",
       "0  7D9F0CE9EC2A1297   classic_bike  2024-05-25 15:52:42  2024-05-25 16:11:50   \n",
       "1  02EC47687411416F   classic_bike  2024-05-14 15:11:51  2024-05-14 15:22:00   \n",
       "2  101370FB2D3402BE   classic_bike  2024-05-30 17:46:04  2024-05-30 18:09:16   \n",
       "3  E97E396331ED6913  electric_bike  2024-05-17 20:21:54  2024-05-17 20:40:32   \n",
       "4  674EDE311C543165   classic_bike  2024-05-22 18:52:20  2024-05-22 18:59:04   \n",
       "\n",
       "            start_station_name start_station_id  \\\n",
       "0      Streeter Dr & Grand Ave            13022   \n",
       "1  Sheridan Rd & Greenleaf Ave     KA1504000159   \n",
       "2      Streeter Dr & Grand Ave            13022   \n",
       "3      Streeter Dr & Grand Ave            13022   \n",
       "4    Larrabee St & Division St     KA1504000079   \n",
       "\n",
       "                 end_station_name end_station_id  start_lat  start_lng  \\\n",
       "0               Clark St & Elm St   TA1307000039  41.892278 -87.612043   \n",
       "1        Sheridan Rd & Loyola Ave         RP-009  42.010587 -87.662412   \n",
       "2             Wabash Ave & 9th St   TA1309000010  41.892278 -87.612043   \n",
       "3  Sheffield Ave & Wellington Ave   TA1307000052  41.892270 -87.611946   \n",
       "4               Clark St & Elm St   TA1307000039  41.903486 -87.643353   \n",
       "\n",
       "     end_lat    end_lng member_casual  \n",
       "0  41.902973 -87.631280        casual  \n",
       "1  42.001044 -87.661198        casual  \n",
       "2  41.870769 -87.625734        member  \n",
       "3  41.936253 -87.652662        member  \n",
       "4  41.902973 -87.631280        casual  "
      ]
     },
     "execution_count": 3,
     "metadata": {},
     "output_type": "execute_result"
    }
   ],
   "source": [
    "df_dict['df_2405'].head()"
   ]
  },
  {
   "cell_type": "markdown",
   "id": "a7a428e3-c358-4e56-968e-292d692f2c59",
   "metadata": {},
   "source": [
    "## 03. PROCESS - Clean and modify each dataframe to prep for analysis"
   ]
  },
  {
   "cell_type": "code",
   "execution_count": 4,
   "id": "cc6da81d-0616-45dd-8d5f-71917d84d8c3",
   "metadata": {},
   "outputs": [
    {
     "name": "stdout",
     "output_type": "stream",
     "text": [
      "\n",
      "--- df_2405 ---\n",
      "Missing values:\n",
      "start_station_name    109048\n",
      "start_station_id      109048\n",
      "end_station_name      112731\n",
      "end_station_id        112731\n",
      "end_lat                  784\n",
      "end_lng                  784\n",
      "dtype: int64\n",
      "Rows with missing values: 27.45%\n",
      "Duplicate rows: 0\n",
      "\n",
      "--- df_2406 ---\n",
      "Missing values:\n",
      "start_station_name    144025\n",
      "start_station_id      144025\n",
      "end_station_name      148027\n",
      "end_station_id        148027\n",
      "end_lat                 1124\n",
      "end_lng                 1124\n",
      "dtype: int64\n",
      "Rows with missing values: 30.45%\n",
      "Duplicate rows: 0\n",
      "\n",
      "--- df_2407 ---\n",
      "Missing values:\n",
      "start_station_name    136965\n",
      "start_station_id      136965\n",
      "end_station_name      139224\n",
      "end_station_id        139224\n",
      "end_lat                 1091\n",
      "end_lng                 1091\n",
      "dtype: int64\n",
      "Rows with missing values: 27.78%\n",
      "Duplicate rows: 0\n",
      "\n",
      "--- df_2408 ---\n",
      "Missing values:\n",
      "start_station_name    140591\n",
      "start_station_id      140591\n",
      "end_station_name      142225\n",
      "end_station_id        142225\n",
      "end_lat                 1027\n",
      "end_lng                 1027\n",
      "dtype: int64\n",
      "Rows with missing values: 28.38%\n",
      "Duplicate rows: 0\n",
      "\n",
      "--- df_2409 ---\n",
      "Missing values:\n",
      "start_station_name    189150\n",
      "start_station_id      189150\n",
      "end_station_name      192950\n",
      "end_station_id        192950\n",
      "end_lat                  753\n",
      "end_lng                  753\n",
      "dtype: int64\n",
      "Rows with missing values: 34.59%\n",
      "Duplicate rows: 0\n",
      "\n",
      "--- df_2410 ---\n",
      "Missing values:\n",
      "start_station_name    107147\n",
      "start_station_id      107147\n",
      "end_station_name      109517\n",
      "end_station_id        109517\n",
      "end_lat                  568\n",
      "end_lng                  568\n",
      "dtype: int64\n",
      "Rows with missing values: 27.13%\n",
      "Duplicate rows: 0\n",
      "\n",
      "--- df_2411 ---\n",
      "Missing values:\n",
      "start_station_name    56203\n",
      "start_station_id      56203\n",
      "end_station_name      57644\n",
      "end_station_id        57644\n",
      "end_lat                 273\n",
      "end_lng                 273\n",
      "dtype: int64\n",
      "Rows with missing values: 26.59%\n",
      "Duplicate rows: 0\n",
      "\n",
      "--- df_2412 ---\n",
      "Missing values:\n",
      "start_station_name    29191\n",
      "start_station_id      29191\n",
      "end_station_name      30776\n",
      "end_station_id        30776\n",
      "end_lat                 131\n",
      "end_lng                 131\n",
      "dtype: int64\n",
      "Rows with missing values: 26.71%\n",
      "Duplicate rows: 0\n",
      "\n",
      "--- df_2501 ---\n",
      "Missing values:\n",
      "start_station_name    22852\n",
      "start_station_id      22852\n",
      "end_station_name      24073\n",
      "end_station_id        24073\n",
      "end_lat                  61\n",
      "end_lng                  61\n",
      "dtype: int64\n",
      "Rows with missing values: 27.00%\n",
      "Duplicate rows: 0\n",
      "\n",
      "--- df_2502 ---\n",
      "Missing values:\n",
      "start_station_name    25928\n",
      "start_station_id      25928\n",
      "end_station_name      27249\n",
      "end_station_id        27249\n",
      "end_lat                  57\n",
      "end_lng                  57\n",
      "dtype: int64\n",
      "Rows with missing values: 27.86%\n",
      "Duplicate rows: 0\n",
      "\n",
      "--- df_2503 ---\n",
      "Missing values:\n",
      "start_station_name    55337\n",
      "start_station_id      55337\n",
      "end_station_name      57984\n",
      "end_station_id        57984\n",
      "end_lat                 241\n",
      "end_lng                 241\n",
      "dtype: int64\n",
      "Rows with missing values: 29.62%\n",
      "Duplicate rows: 0\n",
      "\n",
      "--- df_2504 ---\n",
      "Missing values:\n",
      "start_station_name    71196\n",
      "start_station_id      71196\n",
      "end_station_name      73635\n",
      "end_station_id        73635\n",
      "end_lat                 289\n",
      "end_lng                 289\n",
      "dtype: int64\n",
      "Rows with missing values: 30.29%\n",
      "Duplicate rows: 0\n"
     ]
    }
   ],
   "source": [
    "for key, df in df_dict.items(): # Loop through each df to clean and add columns\n",
    "    # Convert to datetime format, if not already\n",
    "    df['started_at'] = pd.to_datetime(df['started_at'])\n",
    "    df['ended_at'] = pd.to_datetime(df['ended_at'])\n",
    "\n",
    "    # Add ride_length column to calculate the length of each trip\n",
    "    df['ride_length'] = df['ended_at'] - df['started_at']\n",
    "    \n",
    "    # Add day_of_week column (Sunday = 1 to Saturday = 7)\n",
    "    # Default is Monday = 0 to Sunday = 6, so we need to adjust\n",
    "    df['day_of_week'] = (df['started_at'].dt.dayofweek + 1) % 7 + 1 \n",
    "    \n",
    "    print(f\"\\n--- {key} ---\")\n",
    "    # Missing values per column\n",
    "    print(\"Missing values:\")\n",
    "    null_sum = df.isnull().sum()\n",
    "    if null_sum.sum() > 0:\n",
    "        print(null_sum[null_sum > 0])\n",
    "   \n",
    "    # Rows with missing values\n",
    "    rows_missing = df.isnull().any(axis=1).sum()\n",
    "    print(f\"Rows with missing values: {rows_missing / len(df) * 100:.2f}%\")\n",
    "\n",
    "    # Number of duplicate rows\n",
    "    duplicate_count = df.duplicated().sum()\n",
    "    print(f\"Duplicate rows: {duplicate_count}\")"
   ]
  },
  {
   "cell_type": "markdown",
   "id": "ace69c46-bea3-4180-994a-8c7187965df9",
   "metadata": {},
   "source": [
    "All datasets contain values for the `started_at` and `ended_at` columns, which ensures that our calculated time-based columns (e.g., ride duration, day of week) will be complete for every entry.\n",
    "\n",
    "However, many missing values are found in the station name and location columns. While we can still include station and geographic analysis, it’s important to acknowledge the limitations and potential inaccuracies this missing data introduces when evaluating station-level or location-based trends."
   ]
  },
  {
   "cell_type": "markdown",
   "id": "36777430-bae6-4c09-95df-6293442a5317",
   "metadata": {},
   "source": [
    "Another look at the same dataset after modifying:"
   ]
  },
  {
   "cell_type": "code",
   "execution_count": 5,
   "id": "13e4a8ea-beb5-47cd-b6f2-6a9aa1e0783a",
   "metadata": {},
   "outputs": [
    {
     "data": {
      "text/html": [
       "<div>\n",
       "<style scoped>\n",
       "    .dataframe tbody tr th:only-of-type {\n",
       "        vertical-align: middle;\n",
       "    }\n",
       "\n",
       "    .dataframe tbody tr th {\n",
       "        vertical-align: top;\n",
       "    }\n",
       "\n",
       "    .dataframe thead th {\n",
       "        text-align: right;\n",
       "    }\n",
       "</style>\n",
       "<table border=\"1\" class=\"dataframe\">\n",
       "  <thead>\n",
       "    <tr style=\"text-align: right;\">\n",
       "      <th></th>\n",
       "      <th>ride_id</th>\n",
       "      <th>rideable_type</th>\n",
       "      <th>started_at</th>\n",
       "      <th>ended_at</th>\n",
       "      <th>start_station_name</th>\n",
       "      <th>start_station_id</th>\n",
       "      <th>end_station_name</th>\n",
       "      <th>end_station_id</th>\n",
       "      <th>start_lat</th>\n",
       "      <th>start_lng</th>\n",
       "      <th>end_lat</th>\n",
       "      <th>end_lng</th>\n",
       "      <th>member_casual</th>\n",
       "      <th>ride_length</th>\n",
       "      <th>day_of_week</th>\n",
       "    </tr>\n",
       "  </thead>\n",
       "  <tbody>\n",
       "    <tr>\n",
       "      <th>0</th>\n",
       "      <td>7D9F0CE9EC2A1297</td>\n",
       "      <td>classic_bike</td>\n",
       "      <td>2024-05-25 15:52:42</td>\n",
       "      <td>2024-05-25 16:11:50</td>\n",
       "      <td>Streeter Dr &amp; Grand Ave</td>\n",
       "      <td>13022</td>\n",
       "      <td>Clark St &amp; Elm St</td>\n",
       "      <td>TA1307000039</td>\n",
       "      <td>41.892278</td>\n",
       "      <td>-87.612043</td>\n",
       "      <td>41.902973</td>\n",
       "      <td>-87.631280</td>\n",
       "      <td>casual</td>\n",
       "      <td>0 days 00:19:08</td>\n",
       "      <td>7</td>\n",
       "    </tr>\n",
       "    <tr>\n",
       "      <th>1</th>\n",
       "      <td>02EC47687411416F</td>\n",
       "      <td>classic_bike</td>\n",
       "      <td>2024-05-14 15:11:51</td>\n",
       "      <td>2024-05-14 15:22:00</td>\n",
       "      <td>Sheridan Rd &amp; Greenleaf Ave</td>\n",
       "      <td>KA1504000159</td>\n",
       "      <td>Sheridan Rd &amp; Loyola Ave</td>\n",
       "      <td>RP-009</td>\n",
       "      <td>42.010587</td>\n",
       "      <td>-87.662412</td>\n",
       "      <td>42.001044</td>\n",
       "      <td>-87.661198</td>\n",
       "      <td>casual</td>\n",
       "      <td>0 days 00:10:09</td>\n",
       "      <td>3</td>\n",
       "    </tr>\n",
       "    <tr>\n",
       "      <th>2</th>\n",
       "      <td>101370FB2D3402BE</td>\n",
       "      <td>classic_bike</td>\n",
       "      <td>2024-05-30 17:46:04</td>\n",
       "      <td>2024-05-30 18:09:16</td>\n",
       "      <td>Streeter Dr &amp; Grand Ave</td>\n",
       "      <td>13022</td>\n",
       "      <td>Wabash Ave &amp; 9th St</td>\n",
       "      <td>TA1309000010</td>\n",
       "      <td>41.892278</td>\n",
       "      <td>-87.612043</td>\n",
       "      <td>41.870769</td>\n",
       "      <td>-87.625734</td>\n",
       "      <td>member</td>\n",
       "      <td>0 days 00:23:12</td>\n",
       "      <td>5</td>\n",
       "    </tr>\n",
       "    <tr>\n",
       "      <th>3</th>\n",
       "      <td>E97E396331ED6913</td>\n",
       "      <td>electric_bike</td>\n",
       "      <td>2024-05-17 20:21:54</td>\n",
       "      <td>2024-05-17 20:40:32</td>\n",
       "      <td>Streeter Dr &amp; Grand Ave</td>\n",
       "      <td>13022</td>\n",
       "      <td>Sheffield Ave &amp; Wellington Ave</td>\n",
       "      <td>TA1307000052</td>\n",
       "      <td>41.892270</td>\n",
       "      <td>-87.611946</td>\n",
       "      <td>41.936253</td>\n",
       "      <td>-87.652662</td>\n",
       "      <td>member</td>\n",
       "      <td>0 days 00:18:38</td>\n",
       "      <td>6</td>\n",
       "    </tr>\n",
       "    <tr>\n",
       "      <th>4</th>\n",
       "      <td>674EDE311C543165</td>\n",
       "      <td>classic_bike</td>\n",
       "      <td>2024-05-22 18:52:20</td>\n",
       "      <td>2024-05-22 18:59:04</td>\n",
       "      <td>Larrabee St &amp; Division St</td>\n",
       "      <td>KA1504000079</td>\n",
       "      <td>Clark St &amp; Elm St</td>\n",
       "      <td>TA1307000039</td>\n",
       "      <td>41.903486</td>\n",
       "      <td>-87.643353</td>\n",
       "      <td>41.902973</td>\n",
       "      <td>-87.631280</td>\n",
       "      <td>casual</td>\n",
       "      <td>0 days 00:06:44</td>\n",
       "      <td>4</td>\n",
       "    </tr>\n",
       "  </tbody>\n",
       "</table>\n",
       "</div>"
      ],
      "text/plain": [
       "            ride_id  rideable_type          started_at            ended_at  \\\n",
       "0  7D9F0CE9EC2A1297   classic_bike 2024-05-25 15:52:42 2024-05-25 16:11:50   \n",
       "1  02EC47687411416F   classic_bike 2024-05-14 15:11:51 2024-05-14 15:22:00   \n",
       "2  101370FB2D3402BE   classic_bike 2024-05-30 17:46:04 2024-05-30 18:09:16   \n",
       "3  E97E396331ED6913  electric_bike 2024-05-17 20:21:54 2024-05-17 20:40:32   \n",
       "4  674EDE311C543165   classic_bike 2024-05-22 18:52:20 2024-05-22 18:59:04   \n",
       "\n",
       "            start_station_name start_station_id  \\\n",
       "0      Streeter Dr & Grand Ave            13022   \n",
       "1  Sheridan Rd & Greenleaf Ave     KA1504000159   \n",
       "2      Streeter Dr & Grand Ave            13022   \n",
       "3      Streeter Dr & Grand Ave            13022   \n",
       "4    Larrabee St & Division St     KA1504000079   \n",
       "\n",
       "                 end_station_name end_station_id  start_lat  start_lng  \\\n",
       "0               Clark St & Elm St   TA1307000039  41.892278 -87.612043   \n",
       "1        Sheridan Rd & Loyola Ave         RP-009  42.010587 -87.662412   \n",
       "2             Wabash Ave & 9th St   TA1309000010  41.892278 -87.612043   \n",
       "3  Sheffield Ave & Wellington Ave   TA1307000052  41.892270 -87.611946   \n",
       "4               Clark St & Elm St   TA1307000039  41.903486 -87.643353   \n",
       "\n",
       "     end_lat    end_lng member_casual     ride_length  day_of_week  \n",
       "0  41.902973 -87.631280        casual 0 days 00:19:08            7  \n",
       "1  42.001044 -87.661198        casual 0 days 00:10:09            3  \n",
       "2  41.870769 -87.625734        member 0 days 00:23:12            5  \n",
       "3  41.936253 -87.652662        member 0 days 00:18:38            6  \n",
       "4  41.902973 -87.631280        casual 0 days 00:06:44            4  "
      ]
     },
     "execution_count": 5,
     "metadata": {},
     "output_type": "execute_result"
    }
   ],
   "source": [
    "df_dict['df_2405'].head()"
   ]
  },
  {
   "cell_type": "markdown",
   "id": "62bbd86b-61c2-4066-92cc-bd0e3dcfbdad",
   "metadata": {},
   "source": [
    "We added two new columns to the dataset:  \n",
    "- `ride_length` – Calculates the duration of each bike trip  \n",
    "- `day_of_week` – Identifies which day of the week the trip occurred"
   ]
  },
  {
   "cell_type": "code",
   "execution_count": 6,
   "id": "5c8a1899-c25d-4f5c-b8d2-c02addc7e7fb",
   "metadata": {
    "editable": true,
    "slideshow": {
     "slide_type": ""
    },
    "tags": []
   },
   "outputs": [
    {
     "name": "stdout",
     "output_type": "stream",
     "text": [
      "Columns and datatypes in combined_df:\n",
      "<class 'pandas.core.frame.DataFrame'>\n",
      "RangeIndex: 5735884 entries, 0 to 5735883\n",
      "Data columns (total 15 columns):\n",
      " #   Column              Dtype          \n",
      "---  ------              -----          \n",
      " 0   ride_id             object         \n",
      " 1   rideable_type       object         \n",
      " 2   started_at          datetime64[ns] \n",
      " 3   ended_at            datetime64[ns] \n",
      " 4   start_station_name  object         \n",
      " 5   start_station_id    object         \n",
      " 6   end_station_name    object         \n",
      " 7   end_station_id      object         \n",
      " 8   start_lat           float64        \n",
      " 9   start_lng           float64        \n",
      " 10  end_lat             float64        \n",
      " 11  end_lng             float64        \n",
      " 12  member_casual       object         \n",
      " 13  ride_length         timedelta64[ns]\n",
      " 14  day_of_week         int32          \n",
      "dtypes: datetime64[ns](2), float64(4), int32(1), object(7), timedelta64[ns](1)\n",
      "memory usage: 634.5+ MB\n",
      "None\n"
     ]
    }
   ],
   "source": [
    "# Merge the processed dataframes into one\n",
    "combined_df = pd.concat(df_dict.values(), ignore_index=True)\n",
    "\n",
    "print('Columns and datatypes in combined_df:')\n",
    "print(combined_df.info())"
   ]
  },
  {
   "cell_type": "code",
   "execution_count": 96,
   "id": "69933fc2-010c-4bc9-9954-e618a5f279cc",
   "metadata": {},
   "outputs": [
    {
     "name": "stdout",
     "output_type": "stream",
     "text": [
      "count                      5735884\n",
      "mean     0 days 00:16:53.380948522\n",
      "std      0 days 00:58:33.459480860\n",
      "min              -2 days +02:11:41\n",
      "25%         0 days 00:05:29.242000\n",
      "50%         0 days 00:09:37.130500\n",
      "75%         0 days 00:17:03.511250\n",
      "max         1 days 01:59:55.072000\n",
      "Name: ride_length, dtype: object\n"
     ]
    }
   ],
   "source": [
    "print(combined_df['ride_length'].describe())"
   ]
  },
  {
   "cell_type": "markdown",
   "id": "536fe21f-b723-4ab2-9cfa-e0a373b1d60f",
   "metadata": {},
   "source": [
    "The shortest recorded trip duration is around `-2 days`, which is not possible. This likely resulted from a data entry error or system malfunction. To ensure data accuracy, we will remove this entry from our analysis and check for additional outliers."
   ]
  },
  {
   "cell_type": "code",
   "execution_count": 109,
   "id": "b9627513-1ba9-4050-8762-f52a827233e5",
   "metadata": {},
   "outputs": [
    {
     "name": "stdout",
     "output_type": "stream",
     "text": [
      "Number of rides shorter than 60 seconds: 126460\n"
     ]
    }
   ],
   "source": [
    "# Trips < 60s\n",
    "short_rides = combined_df[combined_df['ride_length'].dt.total_seconds() < 60]\n",
    "# Count\n",
    "print(f\"Number of rides shorter than 60 seconds: {len(short_rides)}\")"
   ]
  },
  {
   "cell_type": "code",
   "execution_count": 116,
   "id": "c2ece5ef-c497-4fdc-afac-2f1d376f5626",
   "metadata": {},
   "outputs": [
    {
     "name": "stdout",
     "output_type": "stream",
     "text": [
      "Rows in combined_df: 5735884\n",
      "Rows in filtered_df: 5609424\n",
      "Percent of rows removed: 2.2%\n"
     ]
    }
   ],
   "source": [
    "print(f'Rows in combined_df: {len(combined_df)}')\n",
    "# Remove entries where ride_length < 60s\n",
    "filtered_df = combined_df[combined_df['ride_length'].dt.total_seconds() >= 60]\n",
    "print(f'Rows in filtered_df: {len(filtered_df)}')\n",
    "count_removed_rows = len(combined_df) - len(filtered_df)\n",
    "percent_rows = round((count_removed_rows / len(combined_df)) * 100, 2)\n",
    "print(f'Percent of rows removed: {percent_rows}%')"
   ]
  },
  {
   "cell_type": "markdown",
   "id": "4ceef9ed-fe42-469d-be35-7d28491650ca",
   "metadata": {},
   "source": [
    "As stated by Lyft:\n",
    "    \n",
    "    \"The data has been processed to remove trips that are taken by staff as they service and inspect the system; and any trips that were below 60 seconds in length (potentially false starts or users trying to re-dock a bike to ensure it was secure).\"\n",
    "\n",
    "However, some records with ride durations under 60 seconds are still present in the datasets, suggesting they may have been overlooked. To ensure data quality and consistency, we removed these trips, which resulted in a reduction of approximately 2.2% of total rows."
   ]
  },
  {
   "cell_type": "code",
   "execution_count": 117,
   "id": "73695926-1529-4aa6-968c-1164d08d8c73",
   "metadata": {},
   "outputs": [
    {
     "name": "stdout",
     "output_type": "stream",
     "text": [
      "99th percentile cutoff: 98.57 minutes\n"
     ]
    }
   ],
   "source": [
    "# 99th percentile ride duration in minutes\n",
    "max_cutoff = combined_df['ride_length_minutes'].quantile(0.99)\n",
    "print(f\"99th percentile cutoff: {max_cutoff:.2f} minutes\")\n",
    "\n",
    "# Filter out top 1% of rides (possible outliers)\n",
    "filtered_df = filtered_df[filtered_df['ride_length_minutes'] <= cutoff]"
   ]
  },
  {
   "cell_type": "markdown",
   "id": "e110b42d-594a-4a0c-ab56-52f5c4583f6b",
   "metadata": {},
   "source": [
    "Additionally, we removed the top 1% of rides with unusually long durations to ensure the accuracy of our analysis. These extreme outliers may be the result of errors such as bikes not being properly docked or trips that were not correctly ended. Including them could skew our average ride length and other time-based metrics.\n",
    "\n",
    "By filtering out these outliers, we retain 99% of the data, which gives us a more reliable representation of typical rider behavior. Now that our data has been properly cleaned and processed, we can begin the analysis phase."
   ]
  },
  {
   "cell_type": "markdown",
   "id": "088a6197-1afa-43c8-b8b5-a81e41f46bcf",
   "metadata": {},
   "source": [
    "## 04. ANALYZE - Explore data, perform calculations, identify trends\n",
    "## 05. SHARE - Create supporting visualizations to share findings\n",
    "  \n",
    "**Consider**: How do members vs. casual riders use the bikes differently?"
   ]
  },
  {
   "cell_type": "code",
   "execution_count": 118,
   "id": "65598a7c-7253-4411-9f05-402c903469dd",
   "metadata": {},
   "outputs": [
    {
     "name": "stdout",
     "output_type": "stream",
     "text": [
      "count                      5552065\n",
      "mean     0 days 00:13:46.394689607\n",
      "std      0 days 00:12:53.637948214\n",
      "min                0 days 00:01:00\n",
      "25%         0 days 00:05:41.374000\n",
      "50%         0 days 00:09:44.479000\n",
      "75%         0 days 00:16:57.949000\n",
      "max         0 days 01:38:34.120000\n",
      "Name: ride_length, dtype: object\n"
     ]
    }
   ],
   "source": [
    "print(filtered_df['ride_length'].describe())"
   ]
  },
  {
   "cell_type": "markdown",
   "id": "e21f7cc9-ca6a-43bb-a49a-8c9627ab3902",
   "metadata": {},
   "source": [
    "A quick overview of the data gives us a general understanding of its structure, but to address the business question, we need to focus on how casual riders and members differ in their behavior."
   ]
  },
  {
   "cell_type": "code",
   "execution_count": 119,
   "id": "4b8f5f0d-02f6-43ad-bada-60e3501b855e",
   "metadata": {},
   "outputs": [
    {
     "name": "stdout",
     "output_type": "stream",
     "text": [
      "                 count                       mean                        std  \\\n",
      "member_casual                                                                  \n",
      "casual         1999238  0 days 00:17:33.117231485  0 days 00:16:23.267721260   \n",
      "member         3552827  0 days 00:11:38.813943013  0 days 00:09:48.272796648   \n",
      "\n",
      "                           min                     25%  \\\n",
      "member_casual                                            \n",
      "casual         0 days 00:01:00  0 days 00:06:55.448250   \n",
      "member         0 days 00:01:00  0 days 00:05:11.346000   \n",
      "\n",
      "                                  50%                     75%  \\\n",
      "member_casual                                                   \n",
      "casual         0 days 00:12:01.367500  0 days 00:21:48.163750   \n",
      "member         0 days 00:08:44.015000  0 days 00:14:43.546000   \n",
      "\n",
      "                                  max  \n",
      "member_casual                          \n",
      "casual         0 days 01:38:34.120000  \n",
      "member         0 days 01:38:34.053000  \n"
     ]
    }
   ],
   "source": [
    "# Group by summary stats\n",
    "print(filtered_df.groupby('member_casual')['ride_length'].describe())"
   ]
  },
  {
   "cell_type": "markdown",
   "id": "507cd67d-d033-4dae-be13-6c2ddfa565cb",
   "metadata": {},
   "source": [
    "This summary provides insights into how ride lengths differ between casual riders and members:\n",
    "\n",
    "- The majority of rides are taken by **members**\n",
    "- **Casual riders** tend to take longer trips than **members** on average (~17 minutes vs ~11 minutes)\n",
    "- **Members** show more consistent ride durations, indicated by a lower standard deviation and a tighter range between the 25th and 75th percentiles\n",
    "- The maximum ride duration for both groups is now under 1 hour 40 minutes for both groups, which is much more realistic than before filtering"
   ]
  },
  {
   "cell_type": "markdown",
   "id": "d896596d-5c6c-43bd-8c83-ad147b818b9d",
   "metadata": {},
   "source": [
    "We can split the dataframe into two different sets for members and casual riders for further exploration."
   ]
  },
  {
   "cell_type": "code",
   "execution_count": 120,
   "id": "de6ce75b-ba74-4d4d-b1f1-1a81f48cc86e",
   "metadata": {},
   "outputs": [],
   "source": [
    "member_df = filtered_df[filtered_df['member_casual'] == 'member'].copy() # Filter for members\n",
    "casual_df = filtered_df[filtered_df['member_casual'] == 'casual'].copy() # Filter for casual riders"
   ]
  },
  {
   "cell_type": "markdown",
   "id": "1bd455f4-2fcc-4802-a6a1-459fb6c6c9c8",
   "metadata": {},
   "source": [
    "### Members vs. Casual Riders Trends"
   ]
  },
  {
   "cell_type": "markdown",
   "id": "ac932ca2-20c2-416e-b4e2-188b61afbb43",
   "metadata": {},
   "source": [
    "#### Month Counts"
   ]
  },
  {
   "cell_type": "code",
   "execution_count": 121,
   "id": "2b57b44d-94a0-4fa4-8ad8-ee28551b63a5",
   "metadata": {},
   "outputs": [
    {
     "name": "stdout",
     "output_type": "stream",
     "text": [
      "\n",
      "Most active months for members:\n",
      "start_month\n",
      "9     464648\n",
      "8     429117\n",
      "7     420732\n",
      "6     400951\n",
      "10    393868\n",
      "5     369035\n",
      "4     257388\n",
      "11    238243\n",
      "3     207927\n",
      "12    137137\n",
      "2     121787\n",
      "1     111994\n",
      "Name: count, dtype: int64\n"
     ]
    }
   ],
   "source": [
    "member_df['start_month'] = member_df['started_at'].dt.month\n",
    "member_month_counts = member_df['start_month'].value_counts()\n",
    "print(f'Most active months for members:\\n{member_month_counts}')"
   ]
  },
  {
   "cell_type": "code",
   "execution_count": 122,
   "id": "5c323cac-06fe-46fa-8a84-0c1c94ec52d9",
   "metadata": {},
   "outputs": [
    {
     "name": "stdout",
     "output_type": "stream",
     "text": [
      "\n",
      "Most active months for casual riders:\n",
      "start_month\n",
      "9     328650\n",
      "7     301431\n",
      "8     300487\n",
      "6     282743\n",
      "5     217183\n",
      "10    206266\n",
      "4     103757\n",
      "11     89574\n",
      "3      82019\n",
      "12     37080\n",
      "2      26823\n",
      "1      23225\n",
      "Name: count, dtype: int64\n"
     ]
    }
   ],
   "source": [
    "casual_df['start_month'] = casual_df['started_at'].dt.month\n",
    "casual_month_counts = casual_df['start_month'].value_counts()\n",
    "print(f'Most active months for casual riders:\\n{casual_month_counts}')"
   ]
  },
  {
   "cell_type": "code",
   "execution_count": 123,
   "id": "daf74870-c674-41f8-a3d1-c74bedf6a617",
   "metadata": {},
   "outputs": [
    {
     "data": {
      "image/png": "[encoded data removed]",
      "text/plain": [
       "<Figure size 700x400 with 1 Axes>"
      ]
     },
     "metadata": {},
     "output_type": "display_data"
    }
   ],
   "source": [
    "# Sort months in order\n",
    "member_month_counts = member_month_counts.sort_index()\n",
    "casual_month_counts = casual_month_counts.sort_index()\n",
    "\n",
    "months = np.array(range(1, 13))\n",
    "bar_width = 0.\n",
    "# Plot\n",
    "plt.figure(figsize=(7, 4))\n",
    "plt.bar(months - bar_width/2, member_month_counts.values, width=bar_width, label='Members', color='orange')\n",
    "plt.bar(months + bar_width/2, casual_month_counts.values, width=bar_width, label='Casual Riders', color='teal')\n",
    "plt.xlabel('Month')\n",
    "plt.ylabel('Number of Rides')\n",
    "plt.title('Monthly Ride Distribution: Members vs Casual Riders')\n",
    "plt.xticks(range(1, 13))\n",
    "plt.grid(axis='y', linestyle='--', alpha=0.7)\n",
    "plt.legend()\n",
    "plt.tight_layout()\n",
    "plt.show()"
   ]
  },
  {
   "cell_type": "markdown",
   "id": "535da163-5697-4ddf-a8af-23e5a8108c4a",
   "metadata": {},
   "source": [
    "The monthly ride distribution follows a similar pattern for both groups, with peaks in the summer and fall and fewer rides during the winter months. This trend is likely a result of seasonal changes in weather and riding conditions.\n",
    "\n",
    "It's important to note that members have a higher total ride count across all months because members make up more than 60% of the data. To meaningfully compare behaviors between groups, we need to use a normalized version of the chart that accounts for differences in group sizes and highlights relative trends."
   ]
  },
  {
   "cell_type": "code",
   "execution_count": 124,
   "id": "73d2e023-9cc9-45af-97b8-bd49d384fa1d",
   "metadata": {},
   "outputs": [
    {
     "data": {
      "image/png": "[encoded data removed]",
      "text/plain": [
       "<Figure size 700x400 with 1 Axes>"
      ]
     },
     "metadata": {},
     "output_type": "display_data"
    }
   ],
   "source": [
    "# Sort months in order\n",
    "member_month_counts = member_month_counts.sort_index()\n",
    "casual_month_counts = casual_month_counts.sort_index()\n",
    "# Normalize monthly counts\n",
    "member_month_pct = member_month_counts / member_month_counts.sum()\n",
    "casual_month_pct = casual_month_counts / casual_month_counts.sum()\n",
    "\n",
    "months = np.array(range(1, 13))\n",
    "bar_width = 0.4\n",
    "# Plot\n",
    "plt.figure(figsize=(7, 4))\n",
    "plt.bar(months - bar_width/2, member_month_pct.values, width=bar_width, label='Members (%)', color='orange')\n",
    "plt.bar(months + bar_width/2, casual_month_pct.values, width=bar_width, label='Casual Riders (%)', color='teal')\n",
    "plt.xlabel('Month')\n",
    "plt.ylabel('Share of Rides (%)')\n",
    "plt.title('Normalized Monthly Ride Distribution: Members vs Casual Riders')\n",
    "plt.xticks(range(1, 13))\n",
    "plt.grid(axis='y', linestyle='--', alpha=0.7)\n",
    "plt.legend()\n",
    "plt.gca().yaxis.set_major_formatter(mtick.PercentFormatter(1.0))\n",
    "plt.tight_layout()\n",
    "plt.show()"
   ]
  },
  {
   "cell_type": "markdown",
   "id": "d2778c48-2a35-41a9-ace9-36d9fe35cc9e",
   "metadata": {},
   "source": [
    "In this normalized version, casual riders show a higher proportion of their annual rides occurring in the summer and fall compared to members. In contrast, members have a higher proportion during the winter. This suggests a more need-basis for members, even during months with poor weather conditions, whereas casual riders are more likely to ride for leisure and during more favorable weather."
   ]
  },
  {
   "cell_type": "markdown",
   "id": "4ef9142b-9489-4afe-81af-f777d7f2ef14",
   "metadata": {},
   "source": [
    "#### Day Counts"
   ]
  },
  {
   "cell_type": "code",
   "execution_count": 126,
   "id": "05ab6744-c103-4fab-b149-ad28405c603d",
   "metadata": {},
   "outputs": [
    {
     "name": "stdout",
     "output_type": "stream",
     "text": [
      "Most popular days for members:\n",
      "day_of_week\n",
      "4    583512\n",
      "5    548406\n",
      "3    540340\n",
      "6    520841\n",
      "2    506721\n",
      "7    459253\n",
      "1    393754\n",
      "Name: count, dtype: int64\n"
     ]
    }
   ],
   "source": [
    "member_day_counts = member_df['day_of_week'].value_counts()\n",
    "print(f'Most popular days for members:\\n{member_day_counts}')"
   ]
  },
  {
   "cell_type": "markdown",
   "id": "484b2ed4-b04f-4d4c-a034-c72f59f549ba",
   "metadata": {},
   "source": [
    "Members prefer to use bikes during the week with Wednesdays having the highest count."
   ]
  },
  {
   "cell_type": "code",
   "execution_count": 127,
   "id": "1a9db9bb-0697-4896-b4fd-97ca57d5549c",
   "metadata": {},
   "outputs": [
    {
     "name": "stdout",
     "output_type": "stream",
     "text": [
      "Most popular days for casual riders:\n",
      "day_of_week\n",
      "7    407787\n",
      "1    332283\n",
      "6    308365\n",
      "4    253891\n",
      "5    250634\n",
      "2    232203\n",
      "3    214075\n",
      "Name: count, dtype: int64\n"
     ]
    }
   ],
   "source": [
    "casual_day_counts = casual_df['day_of_week'].value_counts()\n",
    "print(f'Most popular days for casual riders:\\n{casual_day_counts}')"
   ]
  },
  {
   "cell_type": "markdown",
   "id": "88de171b-a5f0-4ebf-92ef-098db7d44cbf",
   "metadata": {},
   "source": [
    "Weekends are favored amongst casual riders with Saturdays having the highest count."
   ]
  },
  {
   "cell_type": "markdown",
   "id": "d461a495-d37a-43b4-a67c-8cbebf3bf487",
   "metadata": {},
   "source": [
    "Similarly with the months, we need to look at the normalized version of daily rides."
   ]
  },
  {
   "cell_type": "code",
   "execution_count": 128,
   "id": "9c3f9823-a5f0-4a1e-95c0-e1c8f2fe21c9",
   "metadata": {},
   "outputs": [
    {
     "data": {
      "image/png": "[encoded data removed]",
      "text/plain": [
       "<Figure size 700x400 with 1 Axes>"
      ]
     },
     "metadata": {},
     "output_type": "display_data"
    }
   ],
   "source": [
    "# Sort day counts by day index (1=Mon to 7=Sun or similar)\n",
    "member_day_counts = member_day_counts.sort_index()\n",
    "casual_day_counts = casual_day_counts.sort_index()\n",
    "\n",
    "# Normalize to get share of weekly rides\n",
    "member_day_pct = (member_day_counts / member_day_counts.sum()) * 100\n",
    "casual_day_pct = (casual_day_counts / casual_day_counts.sum()) * 100\n",
    "\n",
    "# X-axis positions\n",
    "days = np.array(range(1, 8))  # Days 1 through 7\n",
    "bar_width = 0.4\n",
    "\n",
    "# Plot\n",
    "plt.figure(figsize=(7, 4))\n",
    "plt.bar(days - bar_width/2, member_day_pct.values, width=bar_width, label='Members (%)', color='orange')\n",
    "plt.bar(days + bar_width/2, casual_day_pct.values, width=bar_width, label='Casual Riders (%)', color='teal')\n",
    "\n",
    "# Labels and title\n",
    "plt.xlabel('Day of the Week')\n",
    "plt.ylabel('Share of Rides (%)')\n",
    "plt.title('Normalized Daily Ride Distribution: Members vs Casual Riders')\n",
    "plt.xticks(days, ['Sun','Mon', 'Tue', 'Wed', 'Thu', 'Fri', 'Sat'])\n",
    "plt.grid(axis='y', linestyle='--', alpha=0.7)\n",
    "plt.legend()\n",
    "plt.tight_layout()\n",
    "plt.show()"
   ]
  },
  {
   "cell_type": "markdown",
   "id": "55bd8e4d-14e0-41a0-be05-c6ddeeef057b",
   "metadata": {},
   "source": [
    "Members tend to ride more consistently throughout the workweek, peaking mid-week on Wednesdays. In contrast, casual riders show a strong preference for weekends, with Saturdays accounting for over 20% of their weekly rides. This pattern reinforces the idea that casual users likely ride for leisure, while members use the service more for commuting or routine travel."
   ]
  },
  {
   "cell_type": "markdown",
   "id": "e702c606-156d-4440-bae1-486f459ddfe2",
   "metadata": {},
   "source": [
    "#### Hour Counts"
   ]
  },
  {
   "cell_type": "code",
   "execution_count": 129,
   "id": "7a0e320e-744e-4b70-b3f2-a4c52e6b3337",
   "metadata": {},
   "outputs": [
    {
     "name": "stdout",
     "output_type": "stream",
     "text": [
      "\n",
      "Most common start times for members:\n",
      "start_hour\n",
      "17    376388\n",
      "16    329898\n",
      "18    294668\n",
      "8     247666\n",
      "15    240028\n",
      "19    206785\n",
      "12    194680\n",
      "7     193772\n",
      "14    193631\n",
      "13    193228\n",
      "11    170793\n",
      "9     168293\n",
      "10    146608\n",
      "20    144062\n",
      "21    110997\n",
      "6      99419\n",
      "22     80420\n",
      "23     50376\n",
      "5      33538\n",
      "0      31263\n",
      "1      19263\n",
      "2      11033\n",
      "4       8332\n",
      "3       7686\n",
      "Name: count, dtype: int64\n"
     ]
    }
   ],
   "source": [
    "member_df['start_hour'] = member_df['started_at'].dt.hour\n",
    "member_hour_counts = member_df['start_hour'].value_counts()\n",
    "print(f'\\nMost common start times for members:\\n{member_hour_counts}')"
   ]
  },
  {
   "cell_type": "code",
   "execution_count": 130,
   "id": "e09b0289-924d-4100-b285-c2176420f129",
   "metadata": {},
   "outputs": [
    {
     "name": "stdout",
     "output_type": "stream",
     "text": [
      "\n",
      "Most common start times for casual riders:\n",
      "start_hour\n",
      "17    191092\n",
      "16    177581\n",
      "18    163827\n",
      "15    156483\n",
      "14    140977\n",
      "13    134620\n",
      "12    129478\n",
      "19    120238\n",
      "11    109883\n",
      "20     88181\n",
      "10     85942\n",
      "21     73479\n",
      "8      72293\n",
      "9      71240\n",
      "22     64196\n",
      "7      51250\n",
      "23     44861\n",
      "0      33560\n",
      "6      27778\n",
      "1      22424\n",
      "2      14141\n",
      "5      11489\n",
      "3       7884\n",
      "4       6341\n",
      "Name: count, dtype: int64\n"
     ]
    }
   ],
   "source": [
    "# Calculate most active hours for both groups\n",
    "casual_df['start_hour'] = casual_df['started_at'].dt.hour\n",
    "casual_hour_counts = casual_df['start_hour'].value_counts()\n",
    "print(f'\\nMost common start times for casual riders:\\n{casual_hour_counts}')"
   ]
  },
  {
   "cell_type": "code",
   "execution_count": 131,
   "id": "639845e6-4440-41ba-92a9-e1ee94e98466",
   "metadata": {},
   "outputs": [
    {
     "data": {
      "image/png": "[encoded data removed]",
      "text/plain": [
       "<Figure size 700x400 with 1 Axes>"
      ]
     },
     "metadata": {},
     "output_type": "display_data"
    }
   ],
   "source": [
    "member_hour_counts = member_hour_counts.sort_index()\n",
    "casual_hour_counts = casual_hour_counts.sort_index()\n",
    "\n",
    "# Normalize to percent of total rides per group\n",
    "member_hour_pct = (member_hour_counts / member_hour_counts.sum()) * 100\n",
    "casual_hour_pct = (casual_hour_counts / casual_hour_counts.sum()) * 100\n",
    "\n",
    "# Plot\n",
    "plt.figure(figsize=(7, 4))\n",
    "plt.plot(member_hour_pct.index, member_hour_pct.values, marker='o', label='Members (%)', color='orange')\n",
    "plt.plot(casual_hour_pct.index, casual_hour_pct.values, marker='o', label='Casual Riders (%)', color='teal')\n",
    "\n",
    "plt.xlabel('Hour of Day')\n",
    "plt.ylabel('Share of Rides (%)')\n",
    "plt.title('Normalized Hourly Ride Distribution: Members vs Casual Riders')\n",
    "plt.xticks(range(0, 24))\n",
    "plt.grid(axis='y', linestyle='--', alpha=0.7)\n",
    "plt.legend()\n",
    "plt.tight_layout()\n",
    "plt.show()"
   ]
  },
  {
   "cell_type": "markdown",
   "id": "b85c32c1-ada8-4ae4-8813-4e1b01d3484c",
   "metadata": {},
   "source": [
    "Both groups prefer to ride at similar hours. We see a peak in afternoon times around 5 PM for both members and casual riders. However, one distinction is that there is another peak in the morning around 8 AM as well for members, while the proportion of rides for casual riders is lower."
   ]
  },
  {
   "cell_type": "markdown",
   "id": "bc5a8623-bec6-4446-8ee0-0925ce381283",
   "metadata": {},
   "source": [
    "By analyzing the data by month, day of week, and hour of day, the data suggests that members are more likely using the bikes for commuting purposes whereas casual riders exhibit patterns indicating leisure-based usage."
   ]
  },
  {
   "cell_type": "markdown",
   "id": "46343d1f-5f97-4a2a-9feb-aca36a91747a",
   "metadata": {},
   "source": [
    "#### Ride Types"
   ]
  },
  {
   "cell_type": "code",
   "execution_count": 132,
   "id": "5a8f129a-4401-49af-be84-f9994b66abbf",
   "metadata": {},
   "outputs": [
    {
     "name": "stdout",
     "output_type": "stream",
     "text": [
      "\n",
      "Most popular ride types for members:\n",
      "rideable_type\n",
      "electric_bike       1894771\n",
      "classic_bike        1601931\n",
      "electric_scooter      56125\n",
      "Name: count, dtype: int64\n"
     ]
    }
   ],
   "source": [
    "member_ridetype_counts = member_df['rideable_type'].value_counts()\n",
    "print(f'\\nMost popular ride types for members:\\n{member_ridetype_counts}')"
   ]
  },
  {
   "cell_type": "code",
   "execution_count": 133,
   "id": "0fe9097a-c298-49a6-b8ec-ce4b93fe4760",
   "metadata": {},
   "outputs": [
    {
     "name": "stdout",
     "output_type": "stream",
     "text": [
      "\n",
      "Most popular ride types for casual riders:\n",
      "rideable_type\n",
      "electric_bike       1036915\n",
      "classic_bike         881125\n",
      "electric_scooter      81198\n",
      "Name: count, dtype: int64\n"
     ]
    }
   ],
   "source": [
    "# Calculate most popular ride type for both groups\n",
    "casual_ridetype_counts = casual_df['rideable_type'].value_counts()\n",
    "print(f'\\nMost popular ride types for casual riders:\\n{casual_ridetype_counts}')"
   ]
  },
  {
   "cell_type": "markdown",
   "id": "3ac7bec2-5742-41aa-aa6f-772e48d341cb",
   "metadata": {},
   "source": [
    "Electric bikes were most popular amongst both groups most likely for their speed and ease of use."
   ]
  }
 ],
 "metadata": {
  "kernelspec": {
   "display_name": "Python 3 (ipykernel)",
   "language": "python",
   "name": "python3"
  },
  "language_info": {
   "codemirror_mode": {
    "name": "ipython",
    "version": 3
   },
   "file_extension": ".py",
   "mimetype": "text/x-python",
   "name": "python",
   "nbconvert_exporter": "python",
   "pygments_lexer": "ipython3",
   "version": "3.12.6"
  }
 },
 "nbformat": 4,
 "nbformat_minor": 5
}
