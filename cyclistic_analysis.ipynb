{
 "cells": [
  {
   "cell_type": "markdown",
   "id": "b66c597f-36a3-4914-8009-fa51a3e87607",
   "metadata": {},
   "source": [
    "# Cyclistic Bike-share Analysis Case Study\n",
    "#### Michael Lee\n",
    "#### 06/08/2025"
   ]
  },
  {
   "cell_type": "markdown",
   "id": "f6869ffe-9840-4892-bec0-08636ebf897a",
   "metadata": {},
   "source": [
    "## Scenario\n",
    "You are a junior data analyst working on the marketing analyst team at Cyclistic, a bike-share company in Chicago. The director of marketing believes the company’s future success depends on maximizing the number of annual memberships. Therefore, your team wants to understand how casual riders and annual members use Cyclistic bikes differently. From these insights, your team will design a new marketing strategy to convert casual riders into annual members. But first, Cyclistic executives must approve your recommendations, so they must be backed up with compelling data insights and professional data visualizations."
   ]
  },
  {
   "cell_type": "markdown",
   "id": "c98c8abe-4027-4077-a3c1-944729c3ecc6",
   "metadata": {},
   "source": [
    "## 01. ASK - Identify business task\n",
    "**Guiding question**: How do we convert casual riders into annual members?\n",
    "\n",
    "**Business task**: Analyze how casual riders and annual members use Cyclistic bikes differently to support a marketing strategy that converts casual riders into annual members.\n",
    "\n",
    "**Key stakeholders**: Lily Moreno (Director of marketing), Cyclistic executives, marketing analytics team, customers"
   ]
  },
  {
   "cell_type": "markdown",
   "id": "fc689aeb-9bb9-441d-b509-2cfba2e717c7",
   "metadata": {},
   "source": [
    "## 02. PREPARE - Load the datasets and verify data integrity"
   ]
  },
  {
   "cell_type": "code",
   "execution_count": 1,
   "id": "146c90cc-0a47-4520-bbfc-9748ede5b410",
   "metadata": {},
   "outputs": [],
   "source": [
    "# Import necessary packages\n",
    "import pandas as pd\n",
    "import zipfile\n",
    "import os\n",
    "from datetime import datetime\n",
    "import matplotlib.pyplot as plt\n",
    "import matplotlib.ticker as mtick\n",
    "import numpy as np\n",
    "import folium\n",
    "from folium.plugins import MarkerCluster"
   ]
  },
  {
   "cell_type": "markdown",
   "id": "1ea8916d-d164-47af-90c7-acfb21ee701a",
   "metadata": {},
   "source": [
    "Instead of manually unzipping and modifying each file, opting to access the data in its zipped format offers a more efficient process. Not only is it quicker, it also avoids any risks of data loss when unzipping and saving in different formats."
   ]
  },
  {
   "cell_type": "code",
   "execution_count": 2,
   "id": "d993e02c-825e-4aea-8aa2-ce1867b08c54",
   "metadata": {},
   "outputs": [
    {
     "name": "stdout",
     "output_type": "stream",
     "text": [
      "dict_keys(['df_2405', 'df_2406', 'df_2407', 'df_2408', 'df_2409', 'df_2410', 'df_2411', 'df_2412', 'df_2501', 'df_2502', 'df_2503', 'df_2504'])\n"
     ]
    }
   ],
   "source": [
    "# Path to folder with downloaded Divvy data zip files\n",
    "zip_folder = '../Datasets/zip_files/'\n",
    "    \n",
    "# Get all zip files in the folder\n",
    "zip_files = [f for f in os.listdir(zip_folder) if f.endswith('.zip')]\n",
    "# To store dataframes\n",
    "df_dict = {}\n",
    "\n",
    "# Loop through each zip file and load the CSVs\n",
    "for zip_file in zip_files:\n",
    "    zip_path = os.path.join(zip_folder, zip_file)\n",
    "    with zipfile.ZipFile(zip_path, 'r') as z:\n",
    "        for filename in z.namelist():\n",
    "            if filename.endswith('.csv') and not filename.startswith('__MACOSX/'):\n",
    "                df = pd.read_csv(z.open(filename))\n",
    "                # Extract the YYMM from the filename for key\n",
    "                base_name = os.path.splitext(zip_file)[0] \n",
    "                yyyymm = base_name.split('-')[0] \n",
    "                key = f\"df_{yyyymm[2:]}\"\n",
    "                df_dict[key] = df\n",
    "                break\n",
    "\n",
    "print(df_dict.keys()) # List each key (dataset) in the dictionary"
   ]
  },
  {
   "cell_type": "markdown",
   "id": "4ab4692b-a02c-46ea-870c-8e60d179082e",
   "metadata": {},
   "source": [
    "A quick look at one of the datasets:"
   ]
  },
  {
   "cell_type": "code",
   "execution_count": 3,
   "id": "5288f946-85b1-4699-ac67-b3133b60b0e7",
   "metadata": {},
   "outputs": [
    {
     "data": {
      "text/html": [
       "<div>\n",
       "<style scoped>\n",
       "    .dataframe tbody tr th:only-of-type {\n",
       "        vertical-align: middle;\n",
       "    }\n",
       "\n",
       "    .dataframe tbody tr th {\n",
       "        vertical-align: top;\n",
       "    }\n",
       "\n",
       "    .dataframe thead th {\n",
       "        text-align: right;\n",
       "    }\n",
       "</style>\n",
       "<table border=\"1\" class=\"dataframe\">\n",
       "  <thead>\n",
       "    <tr style=\"text-align: right;\">\n",
       "      <th></th>\n",
       "      <th>ride_id</th>\n",
       "      <th>rideable_type</th>\n",
       "      <th>started_at</th>\n",
       "      <th>ended_at</th>\n",
       "      <th>start_station_name</th>\n",
       "      <th>start_station_id</th>\n",
       "      <th>end_station_name</th>\n",
       "      <th>end_station_id</th>\n",
       "      <th>start_lat</th>\n",
       "      <th>start_lng</th>\n",
       "      <th>end_lat</th>\n",
       "      <th>end_lng</th>\n",
       "      <th>member_casual</th>\n",
       "    </tr>\n",
       "  </thead>\n",
       "  <tbody>\n",
       "    <tr>\n",
       "      <th>0</th>\n",
       "      <td>7D9F0CE9EC2A1297</td>\n",
       "      <td>classic_bike</td>\n",
       "      <td>2024-05-25 15:52:42</td>\n",
       "      <td>2024-05-25 16:11:50</td>\n",
       "      <td>Streeter Dr &amp; Grand Ave</td>\n",
       "      <td>13022</td>\n",
       "      <td>Clark St &amp; Elm St</td>\n",
       "      <td>TA1307000039</td>\n",
       "      <td>41.892278</td>\n",
       "      <td>-87.612043</td>\n",
       "      <td>41.902973</td>\n",
       "      <td>-87.631280</td>\n",
       "      <td>casual</td>\n",
       "    </tr>\n",
       "    <tr>\n",
       "      <th>1</th>\n",
       "      <td>02EC47687411416F</td>\n",
       "      <td>classic_bike</td>\n",
       "      <td>2024-05-14 15:11:51</td>\n",
       "      <td>2024-05-14 15:22:00</td>\n",
       "      <td>Sheridan Rd &amp; Greenleaf Ave</td>\n",
       "      <td>KA1504000159</td>\n",
       "      <td>Sheridan Rd &amp; Loyola Ave</td>\n",
       "      <td>RP-009</td>\n",
       "      <td>42.010587</td>\n",
       "      <td>-87.662412</td>\n",
       "      <td>42.001044</td>\n",
       "      <td>-87.661198</td>\n",
       "      <td>casual</td>\n",
       "    </tr>\n",
       "    <tr>\n",
       "      <th>2</th>\n",
       "      <td>101370FB2D3402BE</td>\n",
       "      <td>classic_bike</td>\n",
       "      <td>2024-05-30 17:46:04</td>\n",
       "      <td>2024-05-30 18:09:16</td>\n",
       "      <td>Streeter Dr &amp; Grand Ave</td>\n",
       "      <td>13022</td>\n",
       "      <td>Wabash Ave &amp; 9th St</td>\n",
       "      <td>TA1309000010</td>\n",
       "      <td>41.892278</td>\n",
       "      <td>-87.612043</td>\n",
       "      <td>41.870769</td>\n",
       "      <td>-87.625734</td>\n",
       "      <td>member</td>\n",
       "    </tr>\n",
       "    <tr>\n",
       "      <th>3</th>\n",
       "      <td>E97E396331ED6913</td>\n",
       "      <td>electric_bike</td>\n",
       "      <td>2024-05-17 20:21:54</td>\n",
       "      <td>2024-05-17 20:40:32</td>\n",
       "      <td>Streeter Dr &amp; Grand Ave</td>\n",
       "      <td>13022</td>\n",
       "      <td>Sheffield Ave &amp; Wellington Ave</td>\n",
       "      <td>TA1307000052</td>\n",
       "      <td>41.892270</td>\n",
       "      <td>-87.611946</td>\n",
       "      <td>41.936253</td>\n",
       "      <td>-87.652662</td>\n",
       "      <td>member</td>\n",
       "    </tr>\n",
       "    <tr>\n",
       "      <th>4</th>\n",
       "      <td>674EDE311C543165</td>\n",
       "      <td>classic_bike</td>\n",
       "      <td>2024-05-22 18:52:20</td>\n",
       "      <td>2024-05-22 18:59:04</td>\n",
       "      <td>Larrabee St &amp; Division St</td>\n",
       "      <td>KA1504000079</td>\n",
       "      <td>Clark St &amp; Elm St</td>\n",
       "      <td>TA1307000039</td>\n",
       "      <td>41.903486</td>\n",
       "      <td>-87.643353</td>\n",
       "      <td>41.902973</td>\n",
       "      <td>-87.631280</td>\n",
       "      <td>casual</td>\n",
       "    </tr>\n",
       "  </tbody>\n",
       "</table>\n",
       "</div>"
      ],
      "text/plain": [
       "            ride_id  rideable_type           started_at             ended_at  \\\n",
       "0  7D9F0CE9EC2A1297   classic_bike  2024-05-25 15:52:42  2024-05-25 16:11:50   \n",
       "1  02EC47687411416F   classic_bike  2024-05-14 15:11:51  2024-05-14 15:22:00   \n",
       "2  101370FB2D3402BE   classic_bike  2024-05-30 17:46:04  2024-05-30 18:09:16   \n",
       "3  E97E396331ED6913  electric_bike  2024-05-17 20:21:54  2024-05-17 20:40:32   \n",
       "4  674EDE311C543165   classic_bike  2024-05-22 18:52:20  2024-05-22 18:59:04   \n",
       "\n",
       "            start_station_name start_station_id  \\\n",
       "0      Streeter Dr & Grand Ave            13022   \n",
       "1  Sheridan Rd & Greenleaf Ave     KA1504000159   \n",
       "2      Streeter Dr & Grand Ave            13022   \n",
       "3      Streeter Dr & Grand Ave            13022   \n",
       "4    Larrabee St & Division St     KA1504000079   \n",
       "\n",
       "                 end_station_name end_station_id  start_lat  start_lng  \\\n",
       "0               Clark St & Elm St   TA1307000039  41.892278 -87.612043   \n",
       "1        Sheridan Rd & Loyola Ave         RP-009  42.010587 -87.662412   \n",
       "2             Wabash Ave & 9th St   TA1309000010  41.892278 -87.612043   \n",
       "3  Sheffield Ave & Wellington Ave   TA1307000052  41.892270 -87.611946   \n",
       "4               Clark St & Elm St   TA1307000039  41.903486 -87.643353   \n",
       "\n",
       "     end_lat    end_lng member_casual  \n",
       "0  41.902973 -87.631280        casual  \n",
       "1  42.001044 -87.661198        casual  \n",
       "2  41.870769 -87.625734        member  \n",
       "3  41.936253 -87.652662        member  \n",
       "4  41.902973 -87.631280        casual  "
      ]
     },
     "execution_count": 3,
     "metadata": {},
     "output_type": "execute_result"
    }
   ],
   "source": [
    "df_dict['df_2405'].head()"
   ]
  },
  {
   "cell_type": "markdown",
   "id": "a7a428e3-c358-4e56-968e-292d692f2c59",
   "metadata": {},
   "source": [
    "## 03. PROCESS - Clean and modify each dataframe to prep for analysis"
   ]
  },
  {
   "cell_type": "code",
   "execution_count": 4,
   "id": "cc6da81d-0616-45dd-8d5f-71917d84d8c3",
   "metadata": {},
   "outputs": [
    {
     "name": "stdout",
     "output_type": "stream",
     "text": [
      "\n",
      "--- df_2405 ---\n",
      "Missing values:\n",
      "start_station_name    109048\n",
      "start_station_id      109048\n",
      "end_station_name      112731\n",
      "end_station_id        112731\n",
      "end_lat                  784\n",
      "end_lng                  784\n",
      "dtype: int64\n",
      "Rows with missing values: 27.45%\n",
      "Duplicate rows: 0\n",
      "\n",
      "--- df_2406 ---\n",
      "Missing values:\n",
      "start_station_name    144025\n",
      "start_station_id      144025\n",
      "end_station_name      148027\n",
      "end_station_id        148027\n",
      "end_lat                 1124\n",
      "end_lng                 1124\n",
      "dtype: int64\n",
      "Rows with missing values: 30.45%\n",
      "Duplicate rows: 0\n",
      "\n",
      "--- df_2407 ---\n",
      "Missing values:\n",
      "start_station_name    136965\n",
      "start_station_id      136965\n",
      "end_station_name      139224\n",
      "end_station_id        139224\n",
      "end_lat                 1091\n",
      "end_lng                 1091\n",
      "dtype: int64\n",
      "Rows with missing values: 27.78%\n",
      "Duplicate rows: 0\n",
      "\n",
      "--- df_2408 ---\n",
      "Missing values:\n",
      "start_station_name    140591\n",
      "start_station_id      140591\n",
      "end_station_name      142225\n",
      "end_station_id        142225\n",
      "end_lat                 1027\n",
      "end_lng                 1027\n",
      "dtype: int64\n",
      "Rows with missing values: 28.38%\n",
      "Duplicate rows: 0\n",
      "\n",
      "--- df_2409 ---\n",
      "Missing values:\n",
      "start_station_name    189150\n",
      "start_station_id      189150\n",
      "end_station_name      192950\n",
      "end_station_id        192950\n",
      "end_lat                  753\n",
      "end_lng                  753\n",
      "dtype: int64\n",
      "Rows with missing values: 34.59%\n",
      "Duplicate rows: 0\n",
      "\n",
      "--- df_2410 ---\n",
      "Missing values:\n",
      "start_station_name    107147\n",
      "start_station_id      107147\n",
      "end_station_name      109517\n",
      "end_station_id        109517\n",
      "end_lat                  568\n",
      "end_lng                  568\n",
      "dtype: int64\n",
      "Rows with missing values: 27.13%\n",
      "Duplicate rows: 0\n",
      "\n",
      "--- df_2411 ---\n",
      "Missing values:\n",
      "start_station_name    56203\n",
      "start_station_id      56203\n",
      "end_station_name      57644\n",
      "end_station_id        57644\n",
      "end_lat                 273\n",
      "end_lng                 273\n",
      "dtype: int64\n",
      "Rows with missing values: 26.59%\n",
      "Duplicate rows: 0\n",
      "\n",
      "--- df_2412 ---\n",
      "Missing values:\n",
      "start_station_name    29191\n",
      "start_station_id      29191\n",
      "end_station_name      30776\n",
      "end_station_id        30776\n",
      "end_lat                 131\n",
      "end_lng                 131\n",
      "dtype: int64\n",
      "Rows with missing values: 26.71%\n",
      "Duplicate rows: 0\n",
      "\n",
      "--- df_2501 ---\n",
      "Missing values:\n",
      "start_station_name    22852\n",
      "start_station_id      22852\n",
      "end_station_name      24073\n",
      "end_station_id        24073\n",
      "end_lat                  61\n",
      "end_lng                  61\n",
      "dtype: int64\n",
      "Rows with missing values: 27.00%\n",
      "Duplicate rows: 0\n",
      "\n",
      "--- df_2502 ---\n",
      "Missing values:\n",
      "start_station_name    25928\n",
      "start_station_id      25928\n",
      "end_station_name      27249\n",
      "end_station_id        27249\n",
      "end_lat                  57\n",
      "end_lng                  57\n",
      "dtype: int64\n",
      "Rows with missing values: 27.86%\n",
      "Duplicate rows: 0\n",
      "\n",
      "--- df_2503 ---\n",
      "Missing values:\n",
      "start_station_name    55337\n",
      "start_station_id      55337\n",
      "end_station_name      57984\n",
      "end_station_id        57984\n",
      "end_lat                 241\n",
      "end_lng                 241\n",
      "dtype: int64\n",
      "Rows with missing values: 29.62%\n",
      "Duplicate rows: 0\n",
      "\n",
      "--- df_2504 ---\n",
      "Missing values:\n",
      "start_station_name    71196\n",
      "start_station_id      71196\n",
      "end_station_name      73635\n",
      "end_station_id        73635\n",
      "end_lat                 289\n",
      "end_lng                 289\n",
      "dtype: int64\n",
      "Rows with missing values: 30.29%\n",
      "Duplicate rows: 0\n"
     ]
    }
   ],
   "source": [
    "for key, df in df_dict.items(): # Loop through each df to clean and add columns\n",
    "    # Convert to datetime format, if not already\n",
    "    df['started_at'] = pd.to_datetime(df['started_at'])\n",
    "    df['ended_at'] = pd.to_datetime(df['ended_at'])\n",
    "\n",
    "    # Add ride_length column to calculate the length of each trip\n",
    "    df['ride_length'] = df['ended_at'] - df['started_at']\n",
    "    \n",
    "    # Add day_of_week column (Sunday = 1 to Saturday = 7)\n",
    "    # Default is Monday = 0 to Sunday = 6, so we need to adjust\n",
    "    df['day_of_week'] = (df['started_at'].dt.dayofweek + 1) % 7 + 1 \n",
    "    \n",
    "    print(f\"\\n--- {key} ---\")\n",
    "    # Missing values per column\n",
    "    print(\"Missing values:\")\n",
    "    null_sum = df.isnull().sum()\n",
    "    if null_sum.sum() > 0:\n",
    "        print(null_sum[null_sum > 0])\n",
    "   \n",
    "    # Rows with missing values\n",
    "    rows_missing = df.isnull().any(axis=1).sum()\n",
    "    print(f\"Rows with missing values: {rows_missing / len(df) * 100:.2f}%\")\n",
    "\n",
    "    # Number of duplicate rows\n",
    "    duplicate_count = df.duplicated().sum()\n",
    "    print(f\"Duplicate rows: {duplicate_count}\")"
   ]
  },
  {
   "cell_type": "markdown",
   "id": "ace69c46-bea3-4180-994a-8c7187965df9",
   "metadata": {},
   "source": [
    "All datasets contain values for the `started_at` and `ended_at` columns, which ensures that our calculated time-based columns (e.g., ride duration, day of week) will be complete for every entry.\n",
    "\n",
    "However, many missing values are found in the station name and location columns. While we can still include station and geographic analysis, it’s important to acknowledge the limitations and potential inaccuracies this missing data introduces when evaluating station-level or location-based trends."
   ]
  },
  {
   "cell_type": "markdown",
   "id": "36777430-bae6-4c09-95df-6293442a5317",
   "metadata": {},
   "source": [
    "Another look at the same dataset after modifying:"
   ]
  },
  {
   "cell_type": "code",
   "execution_count": 5,
   "id": "13e4a8ea-beb5-47cd-b6f2-6a9aa1e0783a",
   "metadata": {},
   "outputs": [
    {
     "data": {
      "text/html": [
       "<div>\n",
       "<style scoped>\n",
       "    .dataframe tbody tr th:only-of-type {\n",
       "        vertical-align: middle;\n",
       "    }\n",
       "\n",
       "    .dataframe tbody tr th {\n",
       "        vertical-align: top;\n",
       "    }\n",
       "\n",
       "    .dataframe thead th {\n",
       "        text-align: right;\n",
       "    }\n",
       "</style>\n",
       "<table border=\"1\" class=\"dataframe\">\n",
       "  <thead>\n",
       "    <tr style=\"text-align: right;\">\n",
       "      <th></th>\n",
       "      <th>ride_id</th>\n",
       "      <th>rideable_type</th>\n",
       "      <th>started_at</th>\n",
       "      <th>ended_at</th>\n",
       "      <th>start_station_name</th>\n",
       "      <th>start_station_id</th>\n",
       "      <th>end_station_name</th>\n",
       "      <th>end_station_id</th>\n",
       "      <th>start_lat</th>\n",
       "      <th>start_lng</th>\n",
       "      <th>end_lat</th>\n",
       "      <th>end_lng</th>\n",
       "      <th>member_casual</th>\n",
       "      <th>ride_length</th>\n",
       "      <th>day_of_week</th>\n",
       "    </tr>\n",
       "  </thead>\n",
       "  <tbody>\n",
       "    <tr>\n",
       "      <th>0</th>\n",
       "      <td>7D9F0CE9EC2A1297</td>\n",
       "      <td>classic_bike</td>\n",
       "      <td>2024-05-25 15:52:42</td>\n",
       "      <td>2024-05-25 16:11:50</td>\n",
       "      <td>Streeter Dr &amp; Grand Ave</td>\n",
       "      <td>13022</td>\n",
       "      <td>Clark St &amp; Elm St</td>\n",
       "      <td>TA1307000039</td>\n",
       "      <td>41.892278</td>\n",
       "      <td>-87.612043</td>\n",
       "      <td>41.902973</td>\n",
       "      <td>-87.631280</td>\n",
       "      <td>casual</td>\n",
       "      <td>0 days 00:19:08</td>\n",
       "      <td>7</td>\n",
       "    </tr>\n",
       "    <tr>\n",
       "      <th>1</th>\n",
       "      <td>02EC47687411416F</td>\n",
       "      <td>classic_bike</td>\n",
       "      <td>2024-05-14 15:11:51</td>\n",
       "      <td>2024-05-14 15:22:00</td>\n",
       "      <td>Sheridan Rd &amp; Greenleaf Ave</td>\n",
       "      <td>KA1504000159</td>\n",
       "      <td>Sheridan Rd &amp; Loyola Ave</td>\n",
       "      <td>RP-009</td>\n",
       "      <td>42.010587</td>\n",
       "      <td>-87.662412</td>\n",
       "      <td>42.001044</td>\n",
       "      <td>-87.661198</td>\n",
       "      <td>casual</td>\n",
       "      <td>0 days 00:10:09</td>\n",
       "      <td>3</td>\n",
       "    </tr>\n",
       "    <tr>\n",
       "      <th>2</th>\n",
       "      <td>101370FB2D3402BE</td>\n",
       "      <td>classic_bike</td>\n",
       "      <td>2024-05-30 17:46:04</td>\n",
       "      <td>2024-05-30 18:09:16</td>\n",
       "      <td>Streeter Dr &amp; Grand Ave</td>\n",
       "      <td>13022</td>\n",
       "      <td>Wabash Ave &amp; 9th St</td>\n",
       "      <td>TA1309000010</td>\n",
       "      <td>41.892278</td>\n",
       "      <td>-87.612043</td>\n",
       "      <td>41.870769</td>\n",
       "      <td>-87.625734</td>\n",
       "      <td>member</td>\n",
       "      <td>0 days 00:23:12</td>\n",
       "      <td>5</td>\n",
       "    </tr>\n",
       "    <tr>\n",
       "      <th>3</th>\n",
       "      <td>E97E396331ED6913</td>\n",
       "      <td>electric_bike</td>\n",
       "      <td>2024-05-17 20:21:54</td>\n",
       "      <td>2024-05-17 20:40:32</td>\n",
       "      <td>Streeter Dr &amp; Grand Ave</td>\n",
       "      <td>13022</td>\n",
       "      <td>Sheffield Ave &amp; Wellington Ave</td>\n",
       "      <td>TA1307000052</td>\n",
       "      <td>41.892270</td>\n",
       "      <td>-87.611946</td>\n",
       "      <td>41.936253</td>\n",
       "      <td>-87.652662</td>\n",
       "      <td>member</td>\n",
       "      <td>0 days 00:18:38</td>\n",
       "      <td>6</td>\n",
       "    </tr>\n",
       "    <tr>\n",
       "      <th>4</th>\n",
       "      <td>674EDE311C543165</td>\n",
       "      <td>classic_bike</td>\n",
       "      <td>2024-05-22 18:52:20</td>\n",
       "      <td>2024-05-22 18:59:04</td>\n",
       "      <td>Larrabee St &amp; Division St</td>\n",
       "      <td>KA1504000079</td>\n",
       "      <td>Clark St &amp; Elm St</td>\n",
       "      <td>TA1307000039</td>\n",
       "      <td>41.903486</td>\n",
       "      <td>-87.643353</td>\n",
       "      <td>41.902973</td>\n",
       "      <td>-87.631280</td>\n",
       "      <td>casual</td>\n",
       "      <td>0 days 00:06:44</td>\n",
       "      <td>4</td>\n",
       "    </tr>\n",
       "  </tbody>\n",
       "</table>\n",
       "</div>"
      ],
      "text/plain": [
       "            ride_id  rideable_type          started_at            ended_at  \\\n",
       "0  7D9F0CE9EC2A1297   classic_bike 2024-05-25 15:52:42 2024-05-25 16:11:50   \n",
       "1  02EC47687411416F   classic_bike 2024-05-14 15:11:51 2024-05-14 15:22:00   \n",
       "2  101370FB2D3402BE   classic_bike 2024-05-30 17:46:04 2024-05-30 18:09:16   \n",
       "3  E97E396331ED6913  electric_bike 2024-05-17 20:21:54 2024-05-17 20:40:32   \n",
       "4  674EDE311C543165   classic_bike 2024-05-22 18:52:20 2024-05-22 18:59:04   \n",
       "\n",
       "            start_station_name start_station_id  \\\n",
       "0      Streeter Dr & Grand Ave            13022   \n",
       "1  Sheridan Rd & Greenleaf Ave     KA1504000159   \n",
       "2      Streeter Dr & Grand Ave            13022   \n",
       "3      Streeter Dr & Grand Ave            13022   \n",
       "4    Larrabee St & Division St     KA1504000079   \n",
       "\n",
       "                 end_station_name end_station_id  start_lat  start_lng  \\\n",
       "0               Clark St & Elm St   TA1307000039  41.892278 -87.612043   \n",
       "1        Sheridan Rd & Loyola Ave         RP-009  42.010587 -87.662412   \n",
       "2             Wabash Ave & 9th St   TA1309000010  41.892278 -87.612043   \n",
       "3  Sheffield Ave & Wellington Ave   TA1307000052  41.892270 -87.611946   \n",
       "4               Clark St & Elm St   TA1307000039  41.903486 -87.643353   \n",
       "\n",
       "     end_lat    end_lng member_casual     ride_length  day_of_week  \n",
       "0  41.902973 -87.631280        casual 0 days 00:19:08            7  \n",
       "1  42.001044 -87.661198        casual 0 days 00:10:09            3  \n",
       "2  41.870769 -87.625734        member 0 days 00:23:12            5  \n",
       "3  41.936253 -87.652662        member 0 days 00:18:38            6  \n",
       "4  41.902973 -87.631280        casual 0 days 00:06:44            4  "
      ]
     },
     "execution_count": 5,
     "metadata": {},
     "output_type": "execute_result"
    }
   ],
   "source": [
    "df_dict['df_2405'].head()"
   ]
  },
  {
   "cell_type": "markdown",
   "id": "62bbd86b-61c2-4066-92cc-bd0e3dcfbdad",
   "metadata": {},
   "source": [
    "We added two new columns to our dataframe:  \n",
    "- `ride_length` – Calculates the duration of each bike trip  \n",
    "- `day_of_week` – Identifies which day of the week the trip occurred"
   ]
  },
  {
   "cell_type": "code",
   "execution_count": 6,
   "id": "5c8a1899-c25d-4f5c-b8d2-c02addc7e7fb",
   "metadata": {
    "editable": true,
    "slideshow": {
     "slide_type": ""
    },
    "tags": []
   },
   "outputs": [
    {
     "name": "stdout",
     "output_type": "stream",
     "text": [
      "Columns and datatypes in combined_df:\n",
      "<class 'pandas.core.frame.DataFrame'>\n",
      "RangeIndex: 5735884 entries, 0 to 5735883\n",
      "Data columns (total 15 columns):\n",
      " #   Column              Dtype          \n",
      "---  ------              -----          \n",
      " 0   ride_id             object         \n",
      " 1   rideable_type       object         \n",
      " 2   started_at          datetime64[ns] \n",
      " 3   ended_at            datetime64[ns] \n",
      " 4   start_station_name  object         \n",
      " 5   start_station_id    object         \n",
      " 6   end_station_name    object         \n",
      " 7   end_station_id      object         \n",
      " 8   start_lat           float64        \n",
      " 9   start_lng           float64        \n",
      " 10  end_lat             float64        \n",
      " 11  end_lng             float64        \n",
      " 12  member_casual       object         \n",
      " 13  ride_length         timedelta64[ns]\n",
      " 14  day_of_week         int32          \n",
      "dtypes: datetime64[ns](2), float64(4), int32(1), object(7), timedelta64[ns](1)\n",
      "memory usage: 634.5+ MB\n",
      "None\n"
     ]
    }
   ],
   "source": [
    "# Merge the processed dataframes into one\n",
    "combined_df = pd.concat(df_dict.values(), ignore_index=True)\n",
    "\n",
    "print('Columns and datatypes in combined_df:')\n",
    "print(combined_df.info())"
   ]
  },
  {
   "cell_type": "code",
   "execution_count": 7,
   "id": "69933fc2-010c-4bc9-9954-e618a5f279cc",
   "metadata": {},
   "outputs": [
    {
     "name": "stdout",
     "output_type": "stream",
     "text": [
      "count                      5735884\n",
      "mean     0 days 00:16:53.380948522\n",
      "std      0 days 00:58:33.459480860\n",
      "min              -2 days +02:11:41\n",
      "25%         0 days 00:05:29.242000\n",
      "50%         0 days 00:09:37.130500\n",
      "75%         0 days 00:17:03.511250\n",
      "max         1 days 01:59:55.072000\n",
      "Name: ride_length, dtype: object\n"
     ]
    }
   ],
   "source": [
    "print(combined_df['ride_length'].describe())"
   ]
  },
  {
   "cell_type": "markdown",
   "id": "536fe21f-b723-4ab2-9cfa-e0a373b1d60f",
   "metadata": {},
   "source": [
    "The shortest recorded trip duration is around **-2 days**, which is not possible. This likely resulted from a data entry error or system malfunction. To ensure data accuracy, we will remove this entry from our analysis and check for additional outliers."
   ]
  },
  {
   "cell_type": "code",
   "execution_count": 8,
   "id": "b9627513-1ba9-4050-8762-f52a827233e5",
   "metadata": {},
   "outputs": [
    {
     "name": "stdout",
     "output_type": "stream",
     "text": [
      "Number of rides shorter than 60 seconds: 126460\n"
     ]
    }
   ],
   "source": [
    "# Trips < 60s\n",
    "short_rides = combined_df[combined_df['ride_length'].dt.total_seconds() < 60]\n",
    "print(f\"Number of rides shorter than 60 seconds: {len(short_rides)}\")"
   ]
  },
  {
   "cell_type": "code",
   "execution_count": 9,
   "id": "c2ece5ef-c497-4fdc-afac-2f1d376f5626",
   "metadata": {},
   "outputs": [
    {
     "name": "stdout",
     "output_type": "stream",
     "text": [
      "Rows in combined_df: 5735884\n",
      "Rows in filtered_df: 5609424\n",
      "Percent of rows removed: 2.2%\n",
      "99th percentile cutoff: 99.80 minutes\n",
      "Rows in filtered_df after removing top 1%: 5553329\n"
     ]
    }
   ],
   "source": [
    "print(f'Rows in combined_df: {len(combined_df)}')\n",
    "# Filter entries where ride_length < 60s\n",
    "filtered_df = combined_df[combined_df['ride_length'].dt.total_seconds() >= 60].copy()\n",
    "row_count_filtered = len(filtered_df)\n",
    "print(f'Rows in filtered_df: {row_count_filtered}')\n",
    "count_removed_rows = len(combined_df) - row_count_filtered\n",
    "percent_rows = round(count_removed_rows / len(combined_df) * 100, 2)\n",
    "print(f'Percent of rows removed: {percent_rows}%')\n",
    "\n",
    "# 99th percentile ride duration in minutes\n",
    "filtered_df['ride_length_minutes'] = filtered_df['ride_length'].dt.total_seconds() / 60 # Convert to minutes\n",
    "max_cutoff = filtered_df['ride_length_minutes'].quantile(0.99)\n",
    "print(f\"99th percentile cutoff: {max_cutoff:.2f} minutes\")\n",
    "# Filter out top 1%\n",
    "filtered_df = filtered_df[filtered_df['ride_length_minutes'] <= max_cutoff]\n",
    "row_count_filtered = len(filtered_df)\n",
    "print(f'Rows in filtered_df after removing top 1%: {row_count_filtered}')"
   ]
  },
  {
   "cell_type": "markdown",
   "id": "4ceef9ed-fe42-469d-be35-7d28491650ca",
   "metadata": {},
   "source": [
    "As stated by Lyft:\n",
    "    \n",
    "    \"The data has been processed to remove trips that are taken by staff as they service and inspect the system; and any trips that were below 60 seconds in length (potentially false starts or users trying to re-dock a bike to ensure it was secure).\"\n",
    "\n",
    "However, some records with ride durations under 60 seconds are still present in the datasets, suggesting they may have been overlooked. To ensure data quality and consistency, we removed these trips, which resulted in a reduction of approximately **2.2%** of total rows.\n",
    "\n",
    "Additionally, we removed the top 1% of rides (for a total of 3.2%) with unusually long durations to ensure the accuracy of our analysis, which included any rides longer than **99.80 minutes**. These extreme outliers may be the result of errors such as bikes not being properly docked or trips that were not correctly ended. Including them could skew our average ride length and other time-based metrics.\n",
    "\n",
    "By filtering out these outliers, we retain 96.8% of the data, which gives us a more reliable representation of typical rider behavior. Now that our data has been properly cleaned and processed, we can begin the analysis phase."
   ]
  },
  {
   "cell_type": "markdown",
   "id": "088a6197-1afa-43c8-b8b5-a81e41f46bcf",
   "metadata": {},
   "source": [
    "## 04. ANALYZE - Explore data, perform calculations, identify trends\n",
    "## 05. SHARE - Create supporting visualizations to share findings\n",
    "  \n",
    "**Consider**: How do members vs. casual riders use the bikes differently?"
   ]
  },
  {
   "cell_type": "code",
   "execution_count": 10,
   "id": "65598a7c-7253-4411-9f05-402c903469dd",
   "metadata": {},
   "outputs": [
    {
     "name": "stdout",
     "output_type": "stream",
     "text": [
      "count                      5553329\n",
      "mean     0 days 00:13:47.560859657\n",
      "std      0 days 00:12:57.401492464\n",
      "min                0 days 00:01:00\n",
      "25%         0 days 00:05:41.427000\n",
      "50%         0 days 00:09:44.630000\n",
      "75%         0 days 00:16:58.350000\n",
      "max         0 days 01:39:47.682000\n",
      "Name: ride_length, dtype: object\n"
     ]
    }
   ],
   "source": [
    "print(filtered_df['ride_length'].describe())"
   ]
  },
  {
   "cell_type": "markdown",
   "id": "e21f7cc9-ca6a-43bb-a49a-8c9627ab3902",
   "metadata": {},
   "source": [
    "A quick overview of the data gives us a general understanding of its structure, but to address the business question, we need to focus on how casual riders and members differ in their behavior."
   ]
  },
  {
   "cell_type": "code",
   "execution_count": 11,
   "id": "4b8f5f0d-02f6-43ad-bada-60e3501b855e",
   "metadata": {},
   "outputs": [
    {
     "name": "stdout",
     "output_type": "stream",
     "text": [
      "                 count                       mean                        std  \\\n",
      "member_casual                                                                  \n",
      "casual         2000349  0 days 00:17:35.836855773  0 days 00:16:29.741577172   \n",
      "member         3552980  0 days 00:11:39.040107906  0 days 00:09:49.268846325   \n",
      "\n",
      "                           min                     25%  \\\n",
      "member_casual                                            \n",
      "casual         0 days 00:01:00  0 days 00:06:55.607000   \n",
      "member         0 days 00:01:00  0 days 00:05:11.356750   \n",
      "\n",
      "                                  50%                     75%  \\\n",
      "member_casual                                                   \n",
      "casual         0 days 00:12:01.834000  0 days 00:21:49.834000   \n",
      "member         0 days 00:08:44.040000  0 days 00:14:43.630250   \n",
      "\n",
      "                                  max  \n",
      "member_casual                          \n",
      "casual         0 days 01:39:47.682000  \n",
      "member         0 days 01:39:47.629000  \n"
     ]
    }
   ],
   "source": [
    "# Group by summary stats\n",
    "print(filtered_df.groupby('member_casual')['ride_length'].describe())"
   ]
  },
  {
   "cell_type": "markdown",
   "id": "507cd67d-d033-4dae-be13-6c2ddfa565cb",
   "metadata": {},
   "source": [
    "This summary provides insights into how ride lengths differ between casual riders and members:\n",
    "\n",
    "- The majority of rides are taken by **members**\n",
    "- **Casual riders** tend to take longer trips than **members** on average (~17.5 minutes vs ~11.5 minutes)\n",
    "- **Members** show more consistent ride durations, indicated by a lower standard deviation and a tighter range between the 25th and 75th percentiles\n",
    "- The maximum ride duration for both groups is now under 1 hour 40 minutes for both groups, which is much more realistic than before filtering"
   ]
  },
  {
   "cell_type": "markdown",
   "id": "d896596d-5c6c-43bd-8c83-ad147b818b9d",
   "metadata": {},
   "source": [
    "We can split the dataframe into two different sets for members and casual riders for further exploration."
   ]
  },
  {
   "cell_type": "code",
   "execution_count": 12,
   "id": "de6ce75b-ba74-4d4d-b1f1-1a81f48cc86e",
   "metadata": {},
   "outputs": [],
   "source": [
    "member_df = filtered_df[filtered_df['member_casual'] == 'member'].copy() # Filter for members\n",
    "casual_df = filtered_df[filtered_df['member_casual'] == 'casual'].copy() # Filter for casual riders"
   ]
  },
  {
   "cell_type": "markdown",
   "id": "1bd455f4-2fcc-4802-a6a1-459fb6c6c9c8",
   "metadata": {},
   "source": [
    "### Members vs. Casual Riders Trends"
   ]
  },
  {
   "cell_type": "markdown",
   "id": "ac932ca2-20c2-416e-b4e2-188b61afbb43",
   "metadata": {},
   "source": [
    "#### Month Counts"
   ]
  },
  {
   "cell_type": "code",
   "execution_count": 13,
   "id": "2b57b44d-94a0-4fa4-8ad8-ee28551b63a5",
   "metadata": {},
   "outputs": [
    {
     "name": "stdout",
     "output_type": "stream",
     "text": [
      "Most active months for members:\n",
      "start_month\n",
      "9     464668\n",
      "8     429133\n",
      "7     420754\n",
      "6     400971\n",
      "10    393886\n",
      "5     369060\n",
      "4     257395\n",
      "11    238250\n",
      "3     207937\n",
      "12    137143\n",
      "2     121789\n",
      "1     111994\n",
      "Name: count, dtype: int64\n"
     ]
    }
   ],
   "source": [
    "member_df['start_month'] = member_df['started_at'].dt.month\n",
    "member_month_counts = member_df['start_month'].value_counts()\n",
    "print(f'Most active months for members:\\n{member_month_counts}')"
   ]
  },
  {
   "cell_type": "code",
   "execution_count": 14,
   "id": "5c323cac-06fe-46fa-8a84-0c1c94ec52d9",
   "metadata": {},
   "outputs": [
    {
     "name": "stdout",
     "output_type": "stream",
     "text": [
      "Most active months for casual riders:\n",
      "start_month\n",
      "9     328793\n",
      "7     301629\n",
      "8     300655\n",
      "6     282969\n",
      "5     217359\n",
      "10    206369\n",
      "4     103798\n",
      "11     89594\n",
      "3      82039\n",
      "12     37088\n",
      "2      26827\n",
      "1      23229\n",
      "Name: count, dtype: int64\n"
     ]
    }
   ],
   "source": [
    "casual_df['start_month'] = casual_df['started_at'].dt.month\n",
    "casual_month_counts = casual_df['start_month'].value_counts()\n",
    "print(f'Most active months for casual riders:\\n{casual_month_counts}')"
   ]
  },
  {
   "cell_type": "code",
   "execution_count": 15,
   "id": "daf74870-c674-41f8-a3d1-c74bedf6a617",
   "metadata": {},
   "outputs": [
    {
     "data": {
      "image/png": "[encoded data removed]",
      "text/plain": [
       "<Figure size 700x400 with 1 Axes>"
      ]
     },
     "metadata": {},
     "output_type": "display_data"
    }
   ],
   "source": [
    "# Sort months in order\n",
    "member_month_counts = member_month_counts.sort_index()\n",
    "casual_month_counts = casual_month_counts.sort_index()\n",
    "\n",
    "months = np.array(range(1, 13))\n",
    "bar_width = 0.4\n",
    "# Plot\n",
    "plt.figure(figsize=(7, 4))\n",
    "plt.bar(months - bar_width/2, member_month_counts.values, width=bar_width, label='Members', color='orange')\n",
    "plt.bar(months + bar_width/2, casual_month_counts.values, width=bar_width, label='Casual Riders', color='teal')\n",
    "plt.xlabel('Month')\n",
    "plt.ylabel('Number of Rides')\n",
    "plt.title('Monthly Ride Counts: Members vs Casual Riders')\n",
    "plt.xticks(range(1, 13))\n",
    "plt.grid(axis='y', linestyle='--', alpha=0.7)\n",
    "plt.legend()\n",
    "plt.tight_layout()\n",
    "plt.show()"
   ]
  },
  {
   "cell_type": "markdown",
   "id": "535da163-5697-4ddf-a8af-23e5a8108c4a",
   "metadata": {},
   "source": [
    "The monthly ride distribution follows a similar pattern for both groups, with peaks in the summer and fall and fewer rides during the winter months. This trend is likely a result of seasonal changes in weather and riding conditions.\n",
    "\n",
    "It's important to note that members have a higher total ride count across all months because members make up more than 60% of the data. To meaningfully compare behaviors between groups, we need to use a normalized version of the chart that accounts for differences in group sizes and highlights relative trends."
   ]
  },
  {
   "cell_type": "code",
   "execution_count": 16,
   "id": "73d2e023-9cc9-45af-97b8-bd49d384fa1d",
   "metadata": {},
   "outputs": [
    {
     "data": {
      "image/png": "[encoded data removed]",
      "text/plain": [
       "<Figure size 700x400 with 1 Axes>"
      ]
     },
     "metadata": {},
     "output_type": "display_data"
    }
   ],
   "source": [
    "# Sort months in order\n",
    "member_month_counts = member_month_counts.sort_index()\n",
    "casual_month_counts = casual_month_counts.sort_index()\n",
    "# Normalize monthly counts\n",
    "member_month_pct = member_month_counts / member_month_counts.sum()\n",
    "casual_month_pct = casual_month_counts / casual_month_counts.sum()\n",
    "\n",
    "months = np.array(range(1, 13))\n",
    "bar_width = 0.4\n",
    "# Plot\n",
    "plt.figure(figsize=(7, 4))\n",
    "plt.bar(months - bar_width/2, member_month_pct.values, width=bar_width, label='Members (%)', color='orange')\n",
    "plt.bar(months + bar_width/2, casual_month_pct.values, width=bar_width, label='Casual Riders (%)', color='teal')\n",
    "plt.xlabel('Month')\n",
    "plt.ylabel('Share of Rides (%)')\n",
    "plt.title('Normalized Monthly Ride Distribution: Members vs Casual Riders')\n",
    "plt.xticks(range(1, 13))\n",
    "plt.grid(axis='y', linestyle='--', alpha=0.7)\n",
    "plt.legend()\n",
    "plt.gca().yaxis.set_major_formatter(mtick.PercentFormatter(1.0))\n",
    "plt.tight_layout()\n",
    "plt.show()"
   ]
  },
  {
   "cell_type": "markdown",
   "id": "d2778c48-2a35-41a9-ace9-36d9fe35cc9e",
   "metadata": {},
   "source": [
    "In this normalized version, casual riders show a higher proportion of their annual rides occurring in the summer and fall compared to members. In contrast, members have a higher proportion during the winter. This suggests a more **need-basis for members, even during months with poor weather conditions**, whereas **casual riders are more likely to ride during favorable weather**."
   ]
  },
  {
   "cell_type": "markdown",
   "id": "4ef9142b-9489-4afe-81af-f777d7f2ef14",
   "metadata": {},
   "source": [
    "#### Day Counts"
   ]
  },
  {
   "cell_type": "code",
   "execution_count": 17,
   "id": "05ab6744-c103-4fab-b149-ad28405c603d",
   "metadata": {},
   "outputs": [
    {
     "name": "stdout",
     "output_type": "stream",
     "text": [
      "Most popular days for members:\n",
      "day_of_week\n",
      "4    583527\n",
      "5    548434\n",
      "3    540356\n",
      "6    520859\n",
      "2    506735\n",
      "7    459285\n",
      "1    393784\n",
      "Name: count, dtype: int64\n"
     ]
    }
   ],
   "source": [
    "member_day_counts = member_df['day_of_week'].value_counts()\n",
    "print(f'Most popular days for members:\\n{member_day_counts}')"
   ]
  },
  {
   "cell_type": "markdown",
   "id": "484b2ed4-b04f-4d4c-a034-c72f59f549ba",
   "metadata": {},
   "source": [
    "**Members** prefer to use bikes during the week with **Wednesdays** having the highest count."
   ]
  },
  {
   "cell_type": "code",
   "execution_count": 18,
   "id": "1a9db9bb-0697-4896-b4fd-97ca57d5549c",
   "metadata": {},
   "outputs": [
    {
     "name": "stdout",
     "output_type": "stream",
     "text": [
      "Most popular days for casual riders:\n",
      "day_of_week\n",
      "7    408059\n",
      "1    332553\n",
      "6    308515\n",
      "4    253992\n",
      "5    250741\n",
      "2    232345\n",
      "3    214144\n",
      "Name: count, dtype: int64\n"
     ]
    }
   ],
   "source": [
    "casual_day_counts = casual_df['day_of_week'].value_counts()\n",
    "print(f'Most popular days for casual riders:\\n{casual_day_counts}')"
   ]
  },
  {
   "cell_type": "markdown",
   "id": "88de171b-a5f0-4ebf-92ef-098db7d44cbf",
   "metadata": {},
   "source": [
    "**Casual riders** typically ride on weekends with **Saturdays** having the highest count."
   ]
  },
  {
   "cell_type": "markdown",
   "id": "161b3209-fbd4-4e0a-8e66-1b9f56b5448b",
   "metadata": {},
   "source": [
    "Like with the months, we will consider the normalized distribution of daily rides to better compare ride patterns."
   ]
  },
  {
   "cell_type": "code",
   "execution_count": 19,
   "id": "9c3f9823-a5f0-4a1e-95c0-e1c8f2fe21c9",
   "metadata": {},
   "outputs": [
    {
     "data": {
      "image/png": "[encoded data removed]",
      "text/plain": [
       "<Figure size 700x400 with 1 Axes>"
      ]
     },
     "metadata": {},
     "output_type": "display_data"
    }
   ],
   "source": [
    "# Sort day counts by day index (1=Sun to 7=Sat)\n",
    "member_day_counts = member_day_counts.sort_index()\n",
    "casual_day_counts = casual_day_counts.sort_index()\n",
    "\n",
    "# Normalize to get share of weekly rides\n",
    "member_day_pct = (member_day_counts / member_day_counts.sum()) * 100\n",
    "casual_day_pct = (casual_day_counts / casual_day_counts.sum()) * 100\n",
    "\n",
    "# X-axis positions\n",
    "days = np.array(range(1, 8))\n",
    "bar_width = 0.4\n",
    "\n",
    "# Plot\n",
    "plt.figure(figsize=(7, 4))\n",
    "plt.bar(days - bar_width/2, member_day_pct.values, width=bar_width, label='Members (%)', color='orange')\n",
    "plt.bar(days + bar_width/2, casual_day_pct.values, width=bar_width, label='Casual Riders (%)', color='teal')\n",
    "\n",
    "# Labels and title\n",
    "plt.xlabel('Day of the Week')\n",
    "plt.ylabel('Share of Rides (%)')\n",
    "plt.title('Normalized Daily Ride Distribution: Members vs Casual Riders')\n",
    "plt.xticks(days, ['Sun','Mon', 'Tue', 'Wed', 'Thu', 'Fri', 'Sat'])\n",
    "plt.grid(axis='y', linestyle='--', alpha=0.7)\n",
    "plt.legend()\n",
    "plt.tight_layout()\n",
    "plt.show()"
   ]
  },
  {
   "cell_type": "markdown",
   "id": "55bd8e4d-14e0-41a0-be05-c6ddeeef057b",
   "metadata": {},
   "source": [
    "**Members** tend to ride more consistently throughout the workweek, peaking mid-week on Wednesdays. In contrast, **casual riders** show a strong preference for weekends, with Saturdays accounting for over 20% of their weekly rides. This pattern reinforces the idea that casual users likely ride for leisure, while members use the service more for commuting or routine travel."
   ]
  },
  {
   "cell_type": "markdown",
   "id": "e702c606-156d-4440-bae1-486f459ddfe2",
   "metadata": {},
   "source": [
    "#### Hour Counts"
   ]
  },
  {
   "cell_type": "code",
   "execution_count": 20,
   "id": "7a0e320e-744e-4b70-b3f2-a4c52e6b3337",
   "metadata": {},
   "outputs": [
    {
     "name": "stdout",
     "output_type": "stream",
     "text": [
      "Most common start times for members:\n",
      "start_hour\n",
      "17    376397\n",
      "16    329912\n",
      "18    294681\n",
      "8     247669\n",
      "15    240041\n",
      "19    206796\n",
      "12    194695\n",
      "7     193775\n",
      "14    193642\n",
      "13    193240\n",
      "11    170803\n",
      "9     168301\n",
      "10    146619\n",
      "20    144072\n",
      "21    111000\n",
      "6      99420\n",
      "22     80421\n",
      "23     50377\n",
      "5      33539\n",
      "0      31263\n",
      "1      19263\n",
      "2      11034\n",
      "4       8334\n",
      "3       7686\n",
      "Name: count, dtype: int64\n"
     ]
    }
   ],
   "source": [
    "# Calculate most active hours for both groups\n",
    "member_df['start_hour'] = member_df['started_at'].dt.hour\n",
    "member_hour_counts = member_df['start_hour'].value_counts()\n",
    "print(f'Most common start times for members:\\n{member_hour_counts}')"
   ]
  },
  {
   "cell_type": "code",
   "execution_count": 21,
   "id": "e09b0289-924d-4100-b285-c2176420f129",
   "metadata": {},
   "outputs": [
    {
     "name": "stdout",
     "output_type": "stream",
     "text": [
      "Most common start times for casual riders:\n",
      "start_hour\n",
      "17    191170\n",
      "16    177671\n",
      "18    163888\n",
      "15    156598\n",
      "14    141079\n",
      "13    134731\n",
      "12    129586\n",
      "19    120284\n",
      "11    109996\n",
      "20     88209\n",
      "10     86023\n",
      "21     73498\n",
      "8      72325\n",
      "9      71303\n",
      "22     64211\n",
      "7      51266\n",
      "23     44869\n",
      "0      33567\n",
      "6      27788\n",
      "1      22427\n",
      "2      14144\n",
      "5      11490\n",
      "3       7884\n",
      "4       6342\n",
      "Name: count, dtype: int64\n"
     ]
    }
   ],
   "source": [
    "casual_df['start_hour'] = casual_df['started_at'].dt.hour\n",
    "casual_hour_counts = casual_df['start_hour'].value_counts()\n",
    "print(f'Most common start times for casual riders:\\n{casual_hour_counts}')"
   ]
  },
  {
   "cell_type": "code",
   "execution_count": 22,
   "id": "639845e6-4440-41ba-92a9-e1ee94e98466",
   "metadata": {},
   "outputs": [
    {
     "data": {
      "image/png": "[encoded data removed]",
      "text/plain": [
       "<Figure size 700x400 with 1 Axes>"
      ]
     },
     "metadata": {},
     "output_type": "display_data"
    }
   ],
   "source": [
    "member_hour_counts = member_hour_counts.sort_index()\n",
    "casual_hour_counts = casual_hour_counts.sort_index()\n",
    "\n",
    "# Normalize to percent of total rides per group\n",
    "member_hour_pct = (member_hour_counts / member_hour_counts.sum()) * 100\n",
    "casual_hour_pct = (casual_hour_counts / casual_hour_counts.sum()) * 100\n",
    "\n",
    "# Plot\n",
    "plt.figure(figsize=(7, 4))\n",
    "plt.plot(member_hour_pct.index, member_hour_pct.values, marker='o', label='Members (%)', color='orange')\n",
    "plt.plot(casual_hour_pct.index, casual_hour_pct.values, marker='o', label='Casual Riders (%)', color='teal')\n",
    "\n",
    "plt.xlabel('Hour of Day')\n",
    "plt.ylabel('Share of Rides (%)')\n",
    "plt.title('Normalized Hourly Ride Distribution: Members vs Casual Riders')\n",
    "plt.xticks(range(0, 24))\n",
    "plt.grid(axis='y', linestyle='--', alpha=0.7)\n",
    "plt.legend()\n",
    "plt.tight_layout()\n",
    "plt.show()"
   ]
  },
  {
   "cell_type": "markdown",
   "id": "b85c32c1-ada8-4ae4-8813-4e1b01d3484c",
   "metadata": {},
   "source": [
    "Both groups prefer to ride at similar hours. We see a peak in afternoon times around 5 PM for both members and casual riders. However, one distinction is that there is another peak in the morning around 8 AM as well for members, while the proportion of rides for casual riders is lower.\n",
    "\n",
    "By analyzing the data by month, day of week, and hour of day, the data suggests that **members are more likely using the bikes for commuting purposes** whereas **casual riders exhibit patterns indicating leisure-based usage**."
   ]
  },
  {
   "cell_type": "markdown",
   "id": "46343d1f-5f97-4a2a-9feb-aca36a91747a",
   "metadata": {},
   "source": [
    "#### Ride Types"
   ]
  },
  {
   "cell_type": "code",
   "execution_count": 23,
   "id": "5a8f129a-4401-49af-be84-f9994b66abbf",
   "metadata": {},
   "outputs": [
    {
     "name": "stdout",
     "output_type": "stream",
     "text": [
      "Most popular ride types for members:\n",
      "rideable_type\n",
      "electric_bike       1894857\n",
      "classic_bike        1601998\n",
      "electric_scooter      56125\n",
      "Name: count, dtype: int64\n"
     ]
    }
   ],
   "source": [
    "# Calculate most popular ride type for both groups\n",
    "member_ridetype_counts = member_df['rideable_type'].value_counts()\n",
    "print(f'Most popular ride types for members:\\n{member_ridetype_counts}')"
   ]
  },
  {
   "cell_type": "code",
   "execution_count": 24,
   "id": "0fe9097a-c298-49a6-b8ec-ce4b93fe4760",
   "metadata": {},
   "outputs": [
    {
     "name": "stdout",
     "output_type": "stream",
     "text": [
      "Most popular ride types for casual riders:\n",
      "rideable_type\n",
      "electric_bike       1037157\n",
      "classic_bike         881988\n",
      "electric_scooter      81204\n",
      "Name: count, dtype: int64\n"
     ]
    }
   ],
   "source": [
    "casual_ridetype_counts = casual_df['rideable_type'].value_counts()\n",
    "print(f'Most popular ride types for casual riders:\\n{casual_ridetype_counts}')"
   ]
  },
  {
   "cell_type": "markdown",
   "id": "3ac7bec2-5742-41aa-aa6f-772e48d341cb",
   "metadata": {},
   "source": [
    "**Electric bikes** were most popular amongst both groups most likely for their speed and ease of use."
   ]
  },
  {
   "cell_type": "markdown",
   "id": "bd986700-bd19-47db-bfea-9347fa4933df",
   "metadata": {},
   "source": [
    "#### Popular Starting and Ending Stations\n",
    "**Disclaimer:** The datasets are missing approximately 25-35% of data related to stations and coordinates. Therefore, the analysis may not fully represent all rides taken within the past year."
   ]
  },
  {
   "cell_type": "code",
   "execution_count": 25,
   "id": "cae0c6ec-71a2-4a9b-9768-67190b77191e",
   "metadata": {},
   "outputs": [
    {
     "name": "stdout",
     "output_type": "stream",
     "text": [
      "Top 5 starting stations for members:\n",
      "start_station_name\n",
      "Kingsbury St & Kinzie St        30505\n",
      "Clinton St & Washington Blvd    26085\n",
      "Clark St & Elm St               24104\n",
      "Clinton St & Madison St         23765\n",
      "Canal St & Madison St           20350\n",
      "Name: count, dtype: int64\n",
      "\n",
      "Top 5 ending stations for members:\n",
      "end_station_name\n",
      "Kingsbury St & Kinzie St        30971\n",
      "Clinton St & Washington Blvd    26643\n",
      "Clinton St & Madison St         24988\n",
      "Clark St & Elm St               24049\n",
      "Canal St & Madison St           20695\n",
      "Name: count, dtype: int64\n"
     ]
    }
   ],
   "source": [
    "# Calculate most popular start stations for both groups\n",
    "member_start_station_counts = member_df['start_station_name'].value_counts().head()\n",
    "print(f'Top 5 starting stations for members:\\n{member_start_station_counts}')\n",
    "\n",
    "member_end_station_counts = member_df['end_station_name'].value_counts().head()\n",
    "print(f'\\nTop 5 ending stations for members:\\n{member_end_station_counts}')"
   ]
  },
  {
   "cell_type": "code",
   "execution_count": 26,
   "id": "04e82953-d2ba-41cc-9294-8124c83396a1",
   "metadata": {},
   "outputs": [
    {
     "name": "stdout",
     "output_type": "stream",
     "text": [
      "Top 5 starting stations for casual riders:\n",
      "start_station_name\n",
      "Streeter Dr & Grand Ave               46645\n",
      "DuSable Lake Shore Dr & Monroe St     31257\n",
      "Michigan Ave & Oak St                 23108\n",
      "DuSable Lake Shore Dr & North Blvd    21606\n",
      "Millennium Park                       20624\n",
      "Name: count, dtype: int64\n",
      "\n",
      "Top 5 ending stations for casual riders:\n",
      "end_station_name\n",
      "Streeter Dr & Grand Ave               50410\n",
      "DuSable Lake Shore Dr & Monroe St     29224\n",
      "DuSable Lake Shore Dr & North Blvd    25232\n",
      "Michigan Ave & Oak St                 23837\n",
      "Millennium Park                       22381\n",
      "Name: count, dtype: int64\n"
     ]
    }
   ],
   "source": [
    "casual_start_station_counts = casual_df['start_station_name'].value_counts().head()\n",
    "print(f'Top 5 starting stations for casual riders:\\n{casual_start_station_counts}')\n",
    "\n",
    "casual_end_station_counts = casual_df['end_station_name'].value_counts().head()\n",
    "print(f'\\nTop 5 ending stations for casual riders:\\n{casual_end_station_counts}')"
   ]
  },
  {
   "cell_type": "markdown",
   "id": "f7fa8bde-0c90-4c2a-9f7e-34f92034d30c",
   "metadata": {},
   "source": [
    "The top 5 starting and ending stations for each rider group reveal differing travel behaviors.\n",
    "The most frequented stations for members and casual riders do not overlap, indicating that **each group tends to favor different parts of the city**."
   ]
  },
  {
   "cell_type": "markdown",
   "id": "56026fbc-bd75-42de-a64a-d0d609acb8e5",
   "metadata": {},
   "source": [
    "**Map of Top 10 Start Stations for Each Rider Group**"
   ]
  },
  {
   "cell_type": "code",
   "execution_count": null,
   "id": "a7dfb097-f305-4e2e-9cb2-71ed127e7f22",
   "metadata": {},
   "outputs": [],
   "source": [
    "# Get top 10 start stations for each user type\n",
    "top_member_stations = member_df['start_station_name'].value_counts().head(10).index\n",
    "top_casual_stations = casual_df['start_station_name'].value_counts().head(10).index\n",
    "\n",
    "# Filter to those stations\n",
    "member_stations_df = member_df[member_df['start_station_name'].isin(top_member_stations)]\n",
    "casual_stations_df = casual_df[casual_df['start_station_name'].isin(top_casual_stations)]\n",
    "\n",
    "# Drop duplicates to avoid plotting the same station multiple times\n",
    "member_stations_df = member_stations_df.drop_duplicates(subset=['start_station_name'])\n",
    "casual_stations_df = casual_stations_df.drop_duplicates(subset=['start_station_name'])\n",
    "\n",
    "lat_col = 'start_lat'\n",
    "lng_col = 'start_lng'\n",
    "# Center map around average location\n",
    "avg_lat = filtered_df[lat_col].mean()\n",
    "avg_lng = filtered_df[lng_col].mean()\n",
    "m = folium.Map(location=[avg_lat, avg_lng], zoom_start=13)\n",
    "\n",
    "# Add member station markers\n",
    "for _, row in member_stations_df.iterrows():\n",
    "    folium.Marker(\n",
    "        location=[row[lat_col], row[lng_col]],\n",
    "        popup=f\"Member Station: {row['start_station_name']}\",\n",
    "        icon=folium.Icon(color='orange', icon='bicycle', prefix='fa')\n",
    "    ).add_to(m)\n",
    "\n",
    "# Add casual station markers\n",
    "for _, row in casual_stations_df.iterrows():\n",
    "    folium.Marker(\n",
    "        location=[row[lat_col], row[lng_col]],\n",
    "        popup=f\"Casual Station: {row['start_station_name']}\",\n",
    "        icon=folium.Icon(color='darkblue', icon='bicycle', prefix='fa')\n",
    "    ).add_to(m)\n",
    "m # Show map"
   ]
  },
  {
   "cell_type": "code",
   "execution_count": null,
   "id": "261b7f1f-7882-4513-bc37-0e3baf5a6861",
   "metadata": {},
   "outputs": [],
   "source": [
    "m.save('map_top_10_stations.html') # Save map for display purposes"
   ]
  },
  {
   "cell_type": "markdown",
   "id": "30f09b19-0d32-48ef-b12c-ab4824b60211",
   "metadata": {},
   "source": [
    "[Click here to view the interactive map](map_top_10_stations.html)"
   ]
  },
  {
   "cell_type": "markdown",
   "id": "e800dc09-c94b-495b-9b7d-f3005982acbc",
   "metadata": {},
   "source": [
    "Static screenshot of the map for issues with displaying interactive `Folium` map in environments like GitHub:"
   ]
  },
  {
   "cell_type": "markdown",
   "id": "71848068-2a7f-4622-9071-e0098aab4440",
   "metadata": {},
   "source": [
    "![Map Screenshot](map_top_10_stations.png)"
   ]
  },
  {
   "cell_type": "markdown",
   "id": "31f9aa04-0ab8-427c-8170-f057d3d3cbb0",
   "metadata": {},
   "source": [
    "This interactive map displays the top 10 start stations for each rider group and offers a spatial perspective on rider behavior.\n",
    "\n",
    "- **Members** frequently use stations located in Chicago’s downtown business district, such as those near Union Station and the Loop (e.g., *Kingsbury St & Kinzie St*, *Clinton St & Washington Blvd*, *Clark St & Elm St*). This suggests that members likely use the service for commuting or daily routines.\n",
    "  \n",
    "- **Casual riders**, however, mostly start and end rides near waterfronts and popular tourist destinations like Navy Pier, Millennium Park, and the Lakefront Trail (e.g., *Streeter Dr & Grand Ave*, *DuSable Lake Shore Dr & Monroe St*). This points to more recreational or sightseeing use.\n",
    "\n",
    "Popular member stations concentrate around business centers, while stations most used by casual riders align with Chicago’s scenic and tourist-friendly areas. This geographic divide reinforces the idea that members are likely locals using bikes for transportation, while casual riders are more often tourists or infrequent users."
   ]
  },
  {
   "cell_type": "code",
   "execution_count": 27,
   "id": "c9089305-bd95-406c-9bbf-8ba11261221f",
   "metadata": {},
   "outputs": [
    {
     "name": "stdout",
     "output_type": "stream",
     "text": [
      "Normalized top 5 starting stations for members:\n",
      "start_station_name\n",
      "Kingsbury St & Kinzie St        0.86\n",
      "Clinton St & Washington Blvd    0.73\n",
      "Clark St & Elm St               0.68\n",
      "Clinton St & Madison St         0.67\n",
      "Canal St & Madison St           0.57\n",
      "Name: count, dtype: float64\n",
      "\n",
      "Normalized top 5 ending stations for members:\n",
      "end_station_name\n",
      "Kingsbury St & Kinzie St        0.87\n",
      "Clinton St & Washington Blvd    0.75\n",
      "Clinton St & Madison St         0.70\n",
      "Clark St & Elm St               0.68\n",
      "Canal St & Madison St           0.58\n",
      "Name: count, dtype: float64\n"
     ]
    }
   ],
   "source": [
    "member_start_pct = round(member_start_station_counts / member_df.shape[0] * 100, 2)\n",
    "print(f'Normalized top 5 starting stations for members:\\n{member_start_pct}')\n",
    "\n",
    "member_end_pct = round(member_end_station_counts / member_df.shape[0] * 100, 2)\n",
    "print(f'\\nNormalized top 5 ending stations for members:\\n{member_end_pct}')"
   ]
  },
  {
   "cell_type": "code",
   "execution_count": 28,
   "id": "f6c84c08-9822-433a-833d-f18a99ed2f52",
   "metadata": {},
   "outputs": [
    {
     "name": "stdout",
     "output_type": "stream",
     "text": [
      "Normalized top 5 starting stations for casual riders:\n",
      "start_station_name\n",
      "Streeter Dr & Grand Ave               2.33\n",
      "DuSable Lake Shore Dr & Monroe St     1.56\n",
      "Michigan Ave & Oak St                 1.16\n",
      "DuSable Lake Shore Dr & North Blvd    1.08\n",
      "Millennium Park                       1.03\n",
      "Name: count, dtype: float64\n",
      "\n",
      "Normalized top 5 ending stations for casual riders:\n",
      "end_station_name\n",
      "Streeter Dr & Grand Ave               2.52\n",
      "DuSable Lake Shore Dr & Monroe St     1.46\n",
      "DuSable Lake Shore Dr & North Blvd    1.26\n",
      "Michigan Ave & Oak St                 1.19\n",
      "Millennium Park                       1.12\n",
      "Name: count, dtype: float64\n"
     ]
    }
   ],
   "source": [
    "casual_start_pct = round(casual_start_station_counts / casual_df.shape[0] * 100, 2)\n",
    "print(f'Normalized top 5 starting stations for casual riders:\\n{casual_start_pct}')\n",
    "\n",
    "casual_end_pct = round(casual_end_station_counts / casual_df.shape[0] * 100, 2)\n",
    "print(f'\\nNormalized top 5 ending stations for casual riders:\\n{casual_end_pct}')"
   ]
  },
  {
   "cell_type": "markdown",
   "id": "9e48a3b6-665b-4090-b3e8-75248fb41d84",
   "metadata": {},
   "source": [
    "Comparing the percentage of rides from the top 5 starting and ending stations for each group shows another key difference:\n",
    "\n",
    "-  For **casual riders**, 2.33% of rides start at their most popular station and 2.52% end there\n",
    "- For **members**, only 0.86% of rides start at their most popular station and 0.87% end there\n",
    "\n",
    "These statistics support that casual riders tend to concentrate their trips around a few iconic, tourist-heavy locations, while member rides are more evenly distributed across the area. Even though the percentages may seem small, they represent tens of thousands of trips and reveal important differences in how the service is used by each group."
   ]
  },
  {
   "cell_type": "code",
   "execution_count": 29,
   "id": "3b8a69c3-46c2-47c7-b5a8-c1124c3bef07",
   "metadata": {},
   "outputs": [
    {
     "data": {
      "image/png": "[encoded data removed]",
      "text/plain": [
       "<Figure size 700x400 with 1 Axes>"
      ]
     },
     "metadata": {},
     "output_type": "display_data"
    },
    {
     "data": {
      "image/png": "[encoded data removed]",
      "text/plain": [
       "<Figure size 700x400 with 1 Axes>"
      ]
     },
     "metadata": {},
     "output_type": "display_data"
    }
   ],
   "source": [
    "member_start_pct = member_start_pct.sort_values()\n",
    "# Plot for members\n",
    "plt.figure(figsize=(7, 4))\n",
    "plt.barh(member_start_pct.index, member_start_pct.values, color='orange')\n",
    "plt.xlabel('Percentage of Member Rides (%)')\n",
    "plt.title('Normalized Distribution of Top 5 Start Stations for Members')\n",
    "plt.tight_layout()\n",
    "plt.show()\n",
    "\n",
    "casual_start_pct = casual_start_pct.sort_values()\n",
    "# Plot for casual riders\n",
    "plt.figure(figsize=(7, 4))\n",
    "plt.barh(casual_start_pct.index, casual_start_pct.values, color='teal')\n",
    "plt.xlabel('Percentage of Casual Rides (%)')\n",
    "plt.title('Normalized Distribution of Top 5 Start Stations for Casual Riders')\n",
    "plt.tight_layout()\n",
    "plt.show()"
   ]
  },
  {
   "cell_type": "markdown",
   "id": "dad0d079-7ee5-41d1-b5fc-5f1c9f288b25",
   "metadata": {},
   "source": [
    "The charts illustrate that members tend to have a more even distribution of rides across a wide range of stations, whereas casual riders concentrate their trips more heavily at just a few popular stations.\n",
    "- For members, the difference between the first and second most popular start stations is 0.13%\n",
    "- For casual riders, the difference between the first and second most popular start stations is 0.77%\n",
    "\n",
    "This larger gap for casual riders reflects a strong preference for select stations, while members’ smaller gap indicates a more diverse usage pattern."
   ]
  },
  {
   "cell_type": "markdown",
   "id": "b6bebf7a-4371-4814-aee4-dd63cc422bf4",
   "metadata": {},
   "source": [
    "#### Popular Routes\n",
    "\n",
    "Instead of looking at starting and ending stations separately, we can also consider the two together to get a sense of popular routes taken by each group."
   ]
  },
  {
   "cell_type": "code",
   "execution_count": 30,
   "id": "24f4ee5b-8e24-461f-93ea-31070456a0d9",
   "metadata": {},
   "outputs": [
    {
     "name": "stdout",
     "output_type": "stream",
     "text": [
      "Top 5 routes for members:\n",
      "start_station_name     end_station_name        \n",
      "State St & 33rd St     Calumet Ave & 33rd St       4836\n",
      "Calumet Ave & 33rd St  State St & 33rd St          4814\n",
      "Ellis Ave & 60th St    Ellis Ave & 55th St         4022\n",
      "Ellis Ave & 55th St    Ellis Ave & 60th St         3781\n",
      "Ellis Ave & 60th St    University Ave & 57th St    3704\n",
      "dtype: int64\n"
     ]
    }
   ],
   "source": [
    "member_routes = member_df.groupby(['start_station_name', 'end_station_name']).size().sort_values(ascending=False).head()\n",
    "print(f'Top 5 routes for members:\\n{member_routes}')"
   ]
  },
  {
   "cell_type": "code",
   "execution_count": 31,
   "id": "4c6f5059-251f-499d-96ae-00853e6de614",
   "metadata": {},
   "outputs": [
    {
     "name": "stdout",
     "output_type": "stream",
     "text": [
      "Top 5 routes for casual riders:\n",
      "start_station_name                 end_station_name                 \n",
      "Streeter Dr & Grand Ave            Streeter Dr & Grand Ave              7506\n",
      "DuSable Lake Shore Dr & Monroe St  DuSable Lake Shore Dr & Monroe St    6255\n",
      "                                   Streeter Dr & Grand Ave              4936\n",
      "Michigan Ave & Oak St              Michigan Ave & Oak St                3972\n",
      "Dusable Harbor                     Dusable Harbor                       2762\n",
      "dtype: int64\n"
     ]
    }
   ],
   "source": [
    "casual_routes = casual_df.groupby(['start_station_name', 'end_station_name']).size().sort_values(ascending=False).head()\n",
    "print(f'Top 5 routes for casual riders:\\n{casual_routes}')"
   ]
  },
  {
   "cell_type": "code",
   "execution_count": 32,
   "id": "e92e6ad3-1e33-47e3-bbb9-7a74262dc781",
   "metadata": {
    "scrolled": true
   },
   "outputs": [
    {
     "name": "stdout",
     "output_type": "stream",
     "text": [
      "Percentage of member rides that start/end at the same station: 1.66%\n",
      "Percentage of casual rides that start/end at the same station: 5.68%\n"
     ]
    }
   ],
   "source": [
    "# Create a boolean column for each group to indicate trips that started and ended at same station\n",
    "member_df['same_station'] = member_df['start_station_name'] == member_df['end_station_name']\n",
    "casual_df['same_station'] = casual_df['start_station_name'] == casual_df['end_station_name']\n",
    "\n",
    "member_same_station_pct = member_df['same_station'].mean()\n",
    "casual_same_station_pct = casual_df['same_station'].mean()\n",
    "\n",
    "print(f\"Percentage of member rides that start/end at the same station: {member_same_station_pct:.2%}\")\n",
    "print(f\"Percentage of casual rides that start/end at the same station: {casual_same_station_pct:.2%}\")"
   ]
  },
  {
   "cell_type": "markdown",
   "id": "ecda4f02-66b3-4f88-9910-f17389785747",
   "metadata": {},
   "source": [
    "The most common routes for members and casual riders further emphasize the difference in how each group uses the bike-sharing system.\n",
    "\n",
    "- **Members** tend to ride between different stations (*State St & 33rd St → Calumet Ave & 33rd St*)\n",
    "- 1.66% of trips started and ended at the same station for members\n",
    "\n",
    "  These are point-to-point trips often located near universities and residential areas, likely for commuting, classes, or other daily activities.\n",
    "\n",
    "- **Casual riders** commonly take loop rides (*Streeter Dr & Grand Ave → Streeter Dr & Grand Ave*)\n",
    "- 5.68% of trips started and ended at the same station for casual riders\n",
    "\n",
    "  These routes start and end at the same location, indicating leisure or recreational use, often around popular tourist destinations near the lakefront.\n",
    "\n",
    "This route data further reinforces the broader trend in which members use the bikes as a transportation tool, while casual riders treat it more as a recreational experience."
   ]
  },
  {
   "cell_type": "markdown",
   "id": "da6913cf-7b28-4b0f-b2a3-1635f3ffb21c",
   "metadata": {},
   "source": [
    "## 06. ACT - Provide recommendations based on findings\n",
    "This analysis reveals several key insights into how casual riders and members use Cyclistic bikes differently:\n",
    "\n",
    "- **Casual riders are more likely to use Cyclistic bikes for leisure.**\n",
    "\n",
    "- **Members tend to use the service for commuting.**\n",
    "\n",
    "**Trends by month, day, and hour**:\n",
    "    Casual riders show strong seasonal and weekly trends, with ride counts peaking during summer and fall months and weekends, especially Saturdays. Members exhibit more consistent usage throughout the year and across weekdays, reflecting commuting behavior. Hourly analysis further confirms that members tend to ride during typical commute times (morning and evening peaks), whereas casual riders favor midday and afternoon hours.\n",
    "\n",
    "**Station and location usage**:\n",
    "Casual riders mainly start and end rides near scenic and recreational locations, while members prefer stations near business districts and transit hubs, supporting their daily travel needs. Analyzing the most frequented routes further supports this distinction, indicating that casual riders favor leisure-focused loops and members use more direct, point-to-point routes between home, work, and transit."
   ]
  },
  {
   "cell_type": "markdown",
   "id": "4094b1b8-56f7-437f-ba8f-a5a4b0540fb7",
   "metadata": {},
   "source": [
    "| Aspect | Casual Riders | Members |\n",
    "|--------|---------------|---------|\n",
    "| Usage Purpose | More likely to use Cyclistic bikes for leisure. | Tend to use the service for commuting. |\n",
    "| Monthly Trend | Show strong seasonal trends with rides peaking in summer and fall. | Rides also peak in summer and fall, but have somewhat more of a consistent usage year-round. |\n",
    "| Daily Trend | Rides peak on weekends, especially Saturdays. | Rides peak on weekdays, mostly on Wednesdays. |\n",
    "| Hourly Trend | Favor midday and afternoon rides. | Ride during typical commute times (morning and evening peaks). |\n",
    "| Station & Location Usage | Mainly start and end rides near scenic and recreational locations. | Prefer stations near business districts and transit hubs. |\n",
    "| Route Preferences | Favor leisure-focused loops.  | Use more direct, point-to-point routes between home, work, and transit. |"
   ]
  },
  {
   "cell_type": "markdown",
   "id": "e11c9601-ea93-4174-a787-acc3ed6ffda6",
   "metadata": {},
   "source": [
    "### Top 3 Recommendations\n",
    "#### 1. Launch seasonal membership campaigns at high-traffic tourist areas\n",
    "- Offer limited-time summer and fall discounts on annual memberships and promote them directly at scenic stations through on-site posters, in-app banners, or QR codes on bikes or kiosks linking to a membership sign-up page.\n",
    "\n",
    "#### 2. Promote convenience and savings through ride recaps\n",
    "- After a casual ride, send a follow-up email or app notification showing the cost of their ride compared to what a member would pay and a one-click option to join with a first-month-free trial.\n",
    "\n",
    "#### 3. Introduce “Flex Memberships” for weekend or leisure riders\n",
    "- Offer a flexible, lower-commitment membership tier, such as a “Weekend Rider Pass” or a “Seasonal Membership” that gives casual riders access to member pricing and perks."
   ]
  },
  {
   "cell_type": "markdown",
   "id": "a4b49c56-5346-4f36-9637-bde94ff66c22",
   "metadata": {},
   "source": [
    "### Next Steps\n",
    "Further analysis might include the following:\n",
    "- A deeper dive into assessing ride duration by bike type and areas of demand for each type\n",
    "- Explore underperforming stations to identify opportunities for improvement\n",
    "- Test different pricing models to determine the potential impact on member conversion"
   ]
  }
 ],
 "metadata": {
  "kernelspec": {
   "display_name": "Python 3 (ipykernel)",
   "language": "python",
   "name": "python3"
  },
  "language_info": {
   "codemirror_mode": {
    "name": "ipython",
    "version": 3
   },
   "file_extension": ".py",
   "mimetype": "text/x-python",
   "name": "python",
   "nbconvert_exporter": "python",
   "pygments_lexer": "ipython3",
   "version": "3.12.6"
  }
 },
 "nbformat": 4,
 "nbformat_minor": 5
}
