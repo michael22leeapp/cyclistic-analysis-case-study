{
 "cells": [
  {
   "cell_type": "markdown",
   "id": "b66c597f-36a3-4914-8009-fa51a3e87607",
   "metadata": {},
   "source": [
    "# Cyclistic Bike-share Analysis Case Study\n",
    "#### Michael Lee\n",
    "#### 6/8/2025"
   ]
  },
  {
   "cell_type": "markdown",
   "id": "f6869ffe-9840-4892-bec0-08636ebf897a",
   "metadata": {},
   "source": [
    "## Scenario\n",
    "You are a junior data analyst working on the marketing analytics team at Cyclistic, a fictional bike-share company in Chicago. The company offers flexible pricing plans: single-ride, full-day passes, and annual memberships.\n",
    "\n",
    "The marketing director, Lily Moreno, believes future growth depends on converting casual riders (those who use single-ride and day passes) into annual members. Your team has been tasked with analyzing trip data to uncover how casual riders and annual members use Cyclistic bikes differently. These insights will inform marketing strategies aimed at increasing memberships."
   ]
  },
  {
   "cell_type": "markdown",
   "id": "c98c8abe-4027-4077-a3c1-944729c3ecc6",
   "metadata": {},
   "source": [
    "## 01. ASK - Identify business task"
   ]
  },
  {
   "cell_type": "markdown",
   "id": "89ab8bf9-fa97-49a8-89ee-0b0d44847bd7",
   "metadata": {},
   "source": [
    "**Guiding question**: How do we convert casual riders into annual members?\n",
    "\n",
    "**Business task**: Analyze how casual riders and annual members use Cyclistic bikes differently to support a marketing strategy that converts casual riders into annual members.\n",
    "\n",
    "**Key stakeholders**: Lily Moreno (Director of marketing), Cyclistic executives, marketing analytics team, customers"
   ]
  },
  {
   "cell_type": "markdown",
   "id": "fc689aeb-9bb9-441d-b509-2cfba2e717c7",
   "metadata": {},
   "source": [
    "## 02. PREPARE - Load the datasets and verify data integrity"
   ]
  },
  {
   "cell_type": "code",
   "execution_count": 37,
   "id": "146c90cc-0a47-4520-bbfc-9748ede5b410",
   "metadata": {},
   "outputs": [],
   "source": [
    "# Import necessary packages\n",
    "import pandas as pd\n",
    "import zipfile\n",
    "import os\n",
    "from datetime import datetime\n",
    "import matplotlib.pyplot as plt\n",
    "import matplotlib.ticker as mtick\n",
    "import numpy as np\n",
    "import folium\n",
    "from folium.plugins import MarkerCluster"
   ]
  },
  {
   "cell_type": "markdown",
   "id": "1ea8916d-d164-47af-90c7-acfb21ee701a",
   "metadata": {},
   "source": [
    "Instead of manually unzipping and modifying each file, opting to access the data in its zipped format offers a more efficient process. Not only is it quicker, it also avoids any risks of data loss when unzipping and saving in different formats."
   ]
  },
  {
   "cell_type": "code",
   "execution_count": 2,
   "id": "d993e02c-825e-4aea-8aa2-ce1867b08c54",
   "metadata": {},
   "outputs": [
    {
     "name": "stdout",
     "output_type": "stream",
     "text": [
      "dict_keys(['df_2405', 'df_2406', 'df_2407', 'df_2408', 'df_2409', 'df_2410', 'df_2411', 'df_2412', 'df_2501', 'df_2502', 'df_2503', 'df_2504'])\n"
     ]
    }
   ],
   "source": [
    "# Path to folder with downloaded Divvy data zip files\n",
    "zip_folder = '../Datasets/zip_files/'\n",
    "    \n",
    "# Get all zip files in the folder\n",
    "zip_files = [f for f in os.listdir(zip_folder) if f.endswith('.zip')]\n",
    "# To store dataframes\n",
    "df_dict = {}\n",
    "\n",
    "# Loop through each zip file and load the CSVs\n",
    "for zip_file in zip_files:\n",
    "    zip_path = os.path.join(zip_folder, zip_file)\n",
    "    with zipfile.ZipFile(zip_path, 'r') as z:\n",
    "        for filename in z.namelist():\n",
    "            if filename.endswith('.csv') and not filename.startswith('__MACOSX/'):\n",
    "                df = pd.read_csv(z.open(filename))\n",
    "                # Extract the YYMM from the filename for key\n",
    "                base_name = os.path.splitext(zip_file)[0] \n",
    "                yyyymm = base_name.split('-')[0] \n",
    "                key = f\"df_{yyyymm[2:]}\"\n",
    "                df_dict[key] = df\n",
    "                break\n",
    "\n",
    "print(df_dict.keys()) # List each key (dataset) in the dictionary"
   ]
  },
  {
   "cell_type": "markdown",
   "id": "4ab4692b-a02c-46ea-870c-8e60d179082e",
   "metadata": {},
   "source": [
    "A quick look at one of the datasets:"
   ]
  },
  {
   "cell_type": "code",
   "execution_count": 3,
   "id": "5288f946-85b1-4699-ac67-b3133b60b0e7",
   "metadata": {},
   "outputs": [
    {
     "data": {
      "text/html": [
       "<div>\n",
       "<style scoped>\n",
       "    .dataframe tbody tr th:only-of-type {\n",
       "        vertical-align: middle;\n",
       "    }\n",
       "\n",
       "    .dataframe tbody tr th {\n",
       "        vertical-align: top;\n",
       "    }\n",
       "\n",
       "    .dataframe thead th {\n",
       "        text-align: right;\n",
       "    }\n",
       "</style>\n",
       "<table border=\"1\" class=\"dataframe\">\n",
       "  <thead>\n",
       "    <tr style=\"text-align: right;\">\n",
       "      <th></th>\n",
       "      <th>ride_id</th>\n",
       "      <th>rideable_type</th>\n",
       "      <th>started_at</th>\n",
       "      <th>ended_at</th>\n",
       "      <th>start_station_name</th>\n",
       "      <th>start_station_id</th>\n",
       "      <th>end_station_name</th>\n",
       "      <th>end_station_id</th>\n",
       "      <th>start_lat</th>\n",
       "      <th>start_lng</th>\n",
       "      <th>end_lat</th>\n",
       "      <th>end_lng</th>\n",
       "      <th>member_casual</th>\n",
       "    </tr>\n",
       "  </thead>\n",
       "  <tbody>\n",
       "    <tr>\n",
       "      <th>0</th>\n",
       "      <td>7D9F0CE9EC2A1297</td>\n",
       "      <td>classic_bike</td>\n",
       "      <td>2024-05-25 15:52:42</td>\n",
       "      <td>2024-05-25 16:11:50</td>\n",
       "      <td>Streeter Dr &amp; Grand Ave</td>\n",
       "      <td>13022</td>\n",
       "      <td>Clark St &amp; Elm St</td>\n",
       "      <td>TA1307000039</td>\n",
       "      <td>41.892278</td>\n",
       "      <td>-87.612043</td>\n",
       "      <td>41.902973</td>\n",
       "      <td>-87.631280</td>\n",
       "      <td>casual</td>\n",
       "    </tr>\n",
       "    <tr>\n",
       "      <th>1</th>\n",
       "      <td>02EC47687411416F</td>\n",
       "      <td>classic_bike</td>\n",
       "      <td>2024-05-14 15:11:51</td>\n",
       "      <td>2024-05-14 15:22:00</td>\n",
       "      <td>Sheridan Rd &amp; Greenleaf Ave</td>\n",
       "      <td>KA1504000159</td>\n",
       "      <td>Sheridan Rd &amp; Loyola Ave</td>\n",
       "      <td>RP-009</td>\n",
       "      <td>42.010587</td>\n",
       "      <td>-87.662412</td>\n",
       "      <td>42.001044</td>\n",
       "      <td>-87.661198</td>\n",
       "      <td>casual</td>\n",
       "    </tr>\n",
       "    <tr>\n",
       "      <th>2</th>\n",
       "      <td>101370FB2D3402BE</td>\n",
       "      <td>classic_bike</td>\n",
       "      <td>2024-05-30 17:46:04</td>\n",
       "      <td>2024-05-30 18:09:16</td>\n",
       "      <td>Streeter Dr &amp; Grand Ave</td>\n",
       "      <td>13022</td>\n",
       "      <td>Wabash Ave &amp; 9th St</td>\n",
       "      <td>TA1309000010</td>\n",
       "      <td>41.892278</td>\n",
       "      <td>-87.612043</td>\n",
       "      <td>41.870769</td>\n",
       "      <td>-87.625734</td>\n",
       "      <td>member</td>\n",
       "    </tr>\n",
       "    <tr>\n",
       "      <th>3</th>\n",
       "      <td>E97E396331ED6913</td>\n",
       "      <td>electric_bike</td>\n",
       "      <td>2024-05-17 20:21:54</td>\n",
       "      <td>2024-05-17 20:40:32</td>\n",
       "      <td>Streeter Dr &amp; Grand Ave</td>\n",
       "      <td>13022</td>\n",
       "      <td>Sheffield Ave &amp; Wellington Ave</td>\n",
       "      <td>TA1307000052</td>\n",
       "      <td>41.892270</td>\n",
       "      <td>-87.611946</td>\n",
       "      <td>41.936253</td>\n",
       "      <td>-87.652662</td>\n",
       "      <td>member</td>\n",
       "    </tr>\n",
       "    <tr>\n",
       "      <th>4</th>\n",
       "      <td>674EDE311C543165</td>\n",
       "      <td>classic_bike</td>\n",
       "      <td>2024-05-22 18:52:20</td>\n",
       "      <td>2024-05-22 18:59:04</td>\n",
       "      <td>Larrabee St &amp; Division St</td>\n",
       "      <td>KA1504000079</td>\n",
       "      <td>Clark St &amp; Elm St</td>\n",
       "      <td>TA1307000039</td>\n",
       "      <td>41.903486</td>\n",
       "      <td>-87.643353</td>\n",
       "      <td>41.902973</td>\n",
       "      <td>-87.631280</td>\n",
       "      <td>casual</td>\n",
       "    </tr>\n",
       "  </tbody>\n",
       "</table>\n",
       "</div>"
      ],
      "text/plain": [
       "            ride_id  rideable_type           started_at             ended_at  \\\n",
       "0  7D9F0CE9EC2A1297   classic_bike  2024-05-25 15:52:42  2024-05-25 16:11:50   \n",
       "1  02EC47687411416F   classic_bike  2024-05-14 15:11:51  2024-05-14 15:22:00   \n",
       "2  101370FB2D3402BE   classic_bike  2024-05-30 17:46:04  2024-05-30 18:09:16   \n",
       "3  E97E396331ED6913  electric_bike  2024-05-17 20:21:54  2024-05-17 20:40:32   \n",
       "4  674EDE311C543165   classic_bike  2024-05-22 18:52:20  2024-05-22 18:59:04   \n",
       "\n",
       "            start_station_name start_station_id  \\\n",
       "0      Streeter Dr & Grand Ave            13022   \n",
       "1  Sheridan Rd & Greenleaf Ave     KA1504000159   \n",
       "2      Streeter Dr & Grand Ave            13022   \n",
       "3      Streeter Dr & Grand Ave            13022   \n",
       "4    Larrabee St & Division St     KA1504000079   \n",
       "\n",
       "                 end_station_name end_station_id  start_lat  start_lng  \\\n",
       "0               Clark St & Elm St   TA1307000039  41.892278 -87.612043   \n",
       "1        Sheridan Rd & Loyola Ave         RP-009  42.010587 -87.662412   \n",
       "2             Wabash Ave & 9th St   TA1309000010  41.892278 -87.612043   \n",
       "3  Sheffield Ave & Wellington Ave   TA1307000052  41.892270 -87.611946   \n",
       "4               Clark St & Elm St   TA1307000039  41.903486 -87.643353   \n",
       "\n",
       "     end_lat    end_lng member_casual  \n",
       "0  41.902973 -87.631280        casual  \n",
       "1  42.001044 -87.661198        casual  \n",
       "2  41.870769 -87.625734        member  \n",
       "3  41.936253 -87.652662        member  \n",
       "4  41.902973 -87.631280        casual  "
      ]
     },
     "execution_count": 3,
     "metadata": {},
     "output_type": "execute_result"
    }
   ],
   "source": [
    "df_dict['df_2405'].head()"
   ]
  },
  {
   "cell_type": "markdown",
   "id": "a7a428e3-c358-4e56-968e-292d692f2c59",
   "metadata": {},
   "source": [
    "## 03. PROCESS - Clean and modify each dataframe to prep for analysis"
   ]
  },
  {
   "cell_type": "code",
   "execution_count": 4,
   "id": "cc6da81d-0616-45dd-8d5f-71917d84d8c3",
   "metadata": {},
   "outputs": [
    {
     "name": "stdout",
     "output_type": "stream",
     "text": [
      "\n",
      "--- df_2405 ---\n",
      "Missing values:\n",
      "start_station_name    109048\n",
      "start_station_id      109048\n",
      "end_station_name      112731\n",
      "end_station_id        112731\n",
      "end_lat                  784\n",
      "end_lng                  784\n",
      "dtype: int64\n",
      "Rows with missing values: 27.45%\n",
      "Duplicate rows: 0\n",
      "\n",
      "--- df_2406 ---\n",
      "Missing values:\n",
      "start_station_name    144025\n",
      "start_station_id      144025\n",
      "end_station_name      148027\n",
      "end_station_id        148027\n",
      "end_lat                 1124\n",
      "end_lng                 1124\n",
      "dtype: int64\n",
      "Rows with missing values: 30.45%\n",
      "Duplicate rows: 0\n",
      "\n",
      "--- df_2407 ---\n",
      "Missing values:\n",
      "start_station_name    136965\n",
      "start_station_id      136965\n",
      "end_station_name      139224\n",
      "end_station_id        139224\n",
      "end_lat                 1091\n",
      "end_lng                 1091\n",
      "dtype: int64\n",
      "Rows with missing values: 27.78%\n",
      "Duplicate rows: 0\n",
      "\n",
      "--- df_2408 ---\n",
      "Missing values:\n",
      "start_station_name    140591\n",
      "start_station_id      140591\n",
      "end_station_name      142225\n",
      "end_station_id        142225\n",
      "end_lat                 1027\n",
      "end_lng                 1027\n",
      "dtype: int64\n",
      "Rows with missing values: 28.38%\n",
      "Duplicate rows: 0\n",
      "\n",
      "--- df_2409 ---\n",
      "Missing values:\n",
      "start_station_name    189150\n",
      "start_station_id      189150\n",
      "end_station_name      192950\n",
      "end_station_id        192950\n",
      "end_lat                  753\n",
      "end_lng                  753\n",
      "dtype: int64\n",
      "Rows with missing values: 34.59%\n",
      "Duplicate rows: 0\n",
      "\n",
      "--- df_2410 ---\n",
      "Missing values:\n",
      "start_station_name    107147\n",
      "start_station_id      107147\n",
      "end_station_name      109517\n",
      "end_station_id        109517\n",
      "end_lat                  568\n",
      "end_lng                  568\n",
      "dtype: int64\n",
      "Rows with missing values: 27.13%\n",
      "Duplicate rows: 0\n",
      "\n",
      "--- df_2411 ---\n",
      "Missing values:\n",
      "start_station_name    56203\n",
      "start_station_id      56203\n",
      "end_station_name      57644\n",
      "end_station_id        57644\n",
      "end_lat                 273\n",
      "end_lng                 273\n",
      "dtype: int64\n",
      "Rows with missing values: 26.59%\n",
      "Duplicate rows: 0\n",
      "\n",
      "--- df_2412 ---\n",
      "Missing values:\n",
      "start_station_name    29191\n",
      "start_station_id      29191\n",
      "end_station_name      30776\n",
      "end_station_id        30776\n",
      "end_lat                 131\n",
      "end_lng                 131\n",
      "dtype: int64\n",
      "Rows with missing values: 26.71%\n",
      "Duplicate rows: 0\n",
      "\n",
      "--- df_2501 ---\n",
      "Missing values:\n",
      "start_station_name    22852\n",
      "start_station_id      22852\n",
      "end_station_name      24073\n",
      "end_station_id        24073\n",
      "end_lat                  61\n",
      "end_lng                  61\n",
      "dtype: int64\n",
      "Rows with missing values: 27.00%\n",
      "Duplicate rows: 0\n",
      "\n",
      "--- df_2502 ---\n",
      "Missing values:\n",
      "start_station_name    25928\n",
      "start_station_id      25928\n",
      "end_station_name      27249\n",
      "end_station_id        27249\n",
      "end_lat                  57\n",
      "end_lng                  57\n",
      "dtype: int64\n",
      "Rows with missing values: 27.86%\n",
      "Duplicate rows: 0\n",
      "\n",
      "--- df_2503 ---\n",
      "Missing values:\n",
      "start_station_name    55337\n",
      "start_station_id      55337\n",
      "end_station_name      57984\n",
      "end_station_id        57984\n",
      "end_lat                 241\n",
      "end_lng                 241\n",
      "dtype: int64\n",
      "Rows with missing values: 29.62%\n",
      "Duplicate rows: 0\n",
      "\n",
      "--- df_2504 ---\n",
      "Missing values:\n",
      "start_station_name    71196\n",
      "start_station_id      71196\n",
      "end_station_name      73635\n",
      "end_station_id        73635\n",
      "end_lat                 289\n",
      "end_lng                 289\n",
      "dtype: int64\n",
      "Rows with missing values: 30.29%\n",
      "Duplicate rows: 0\n"
     ]
    }
   ],
   "source": [
    "for key, df in df_dict.items(): # Loop through each df to clean and add columns\n",
    "    # Convert to datetime format, if not already\n",
    "    df['started_at'] = pd.to_datetime(df['started_at'])\n",
    "    df['ended_at'] = pd.to_datetime(df['ended_at'])\n",
    "\n",
    "    # Add ride_length column to calculate the length of each trip\n",
    "    df['ride_length'] = df['ended_at'] - df['started_at']\n",
    "    \n",
    "    # Add day_of_week column (Sunday = 1 to Saturday = 7)\n",
    "    # Default is Monday = 0 to Sunday = 6, so we need to adjust\n",
    "    df['day_of_week'] = (df['started_at'].dt.dayofweek + 1) % 7 + 1 \n",
    "    \n",
    "    print(f\"\\n--- {key} ---\")\n",
    "    # Missing values per column\n",
    "    print(\"Missing values:\")\n",
    "    null_sum = df.isnull().sum()\n",
    "    if null_sum.sum() > 0:\n",
    "        print(null_sum[null_sum > 0])\n",
    "   \n",
    "    # Rows with missing values\n",
    "    rows_missing = df.isnull().any(axis=1).sum()\n",
    "    print(f\"Rows with missing values: {rows_missing / len(df) * 100:.2f}%\")\n",
    "\n",
    "    # Number of duplicate rows\n",
    "    duplicate_count = df.duplicated().sum()\n",
    "    print(f\"Duplicate rows: {duplicate_count}\")"
   ]
  },
  {
   "cell_type": "markdown",
   "id": "ace69c46-bea3-4180-994a-8c7187965df9",
   "metadata": {},
   "source": [
    "All datasets contain values for the `started_at` and `ended_at` columns, which ensures that our calculated time-based columns (e.g., ride duration, day of week) will be complete for every entry.\n",
    "\n",
    "However, many missing values are found in the station name and location columns. While we can still include station and geographic analysis, it’s important to acknowledge the limitations and potential inaccuracies this missing data introduces when evaluating station-level or location-based trends."
   ]
  },
  {
   "cell_type": "markdown",
   "id": "36777430-bae6-4c09-95df-6293442a5317",
   "metadata": {},
   "source": [
    "Another look at the same dataset after modifying:"
   ]
  },
  {
   "cell_type": "code",
   "execution_count": 5,
   "id": "13e4a8ea-beb5-47cd-b6f2-6a9aa1e0783a",
   "metadata": {},
   "outputs": [
    {
     "data": {
      "text/html": [
       "<div>\n",
       "<style scoped>\n",
       "    .dataframe tbody tr th:only-of-type {\n",
       "        vertical-align: middle;\n",
       "    }\n",
       "\n",
       "    .dataframe tbody tr th {\n",
       "        vertical-align: top;\n",
       "    }\n",
       "\n",
       "    .dataframe thead th {\n",
       "        text-align: right;\n",
       "    }\n",
       "</style>\n",
       "<table border=\"1\" class=\"dataframe\">\n",
       "  <thead>\n",
       "    <tr style=\"text-align: right;\">\n",
       "      <th></th>\n",
       "      <th>ride_id</th>\n",
       "      <th>rideable_type</th>\n",
       "      <th>started_at</th>\n",
       "      <th>ended_at</th>\n",
       "      <th>start_station_name</th>\n",
       "      <th>start_station_id</th>\n",
       "      <th>end_station_name</th>\n",
       "      <th>end_station_id</th>\n",
       "      <th>start_lat</th>\n",
       "      <th>start_lng</th>\n",
       "      <th>end_lat</th>\n",
       "      <th>end_lng</th>\n",
       "      <th>member_casual</th>\n",
       "      <th>ride_length</th>\n",
       "      <th>day_of_week</th>\n",
       "    </tr>\n",
       "  </thead>\n",
       "  <tbody>\n",
       "    <tr>\n",
       "      <th>0</th>\n",
       "      <td>7D9F0CE9EC2A1297</td>\n",
       "      <td>classic_bike</td>\n",
       "      <td>2024-05-25 15:52:42</td>\n",
       "      <td>2024-05-25 16:11:50</td>\n",
       "      <td>Streeter Dr &amp; Grand Ave</td>\n",
       "      <td>13022</td>\n",
       "      <td>Clark St &amp; Elm St</td>\n",
       "      <td>TA1307000039</td>\n",
       "      <td>41.892278</td>\n",
       "      <td>-87.612043</td>\n",
       "      <td>41.902973</td>\n",
       "      <td>-87.631280</td>\n",
       "      <td>casual</td>\n",
       "      <td>0 days 00:19:08</td>\n",
       "      <td>7</td>\n",
       "    </tr>\n",
       "    <tr>\n",
       "      <th>1</th>\n",
       "      <td>02EC47687411416F</td>\n",
       "      <td>classic_bike</td>\n",
       "      <td>2024-05-14 15:11:51</td>\n",
       "      <td>2024-05-14 15:22:00</td>\n",
       "      <td>Sheridan Rd &amp; Greenleaf Ave</td>\n",
       "      <td>KA1504000159</td>\n",
       "      <td>Sheridan Rd &amp; Loyola Ave</td>\n",
       "      <td>RP-009</td>\n",
       "      <td>42.010587</td>\n",
       "      <td>-87.662412</td>\n",
       "      <td>42.001044</td>\n",
       "      <td>-87.661198</td>\n",
       "      <td>casual</td>\n",
       "      <td>0 days 00:10:09</td>\n",
       "      <td>3</td>\n",
       "    </tr>\n",
       "    <tr>\n",
       "      <th>2</th>\n",
       "      <td>101370FB2D3402BE</td>\n",
       "      <td>classic_bike</td>\n",
       "      <td>2024-05-30 17:46:04</td>\n",
       "      <td>2024-05-30 18:09:16</td>\n",
       "      <td>Streeter Dr &amp; Grand Ave</td>\n",
       "      <td>13022</td>\n",
       "      <td>Wabash Ave &amp; 9th St</td>\n",
       "      <td>TA1309000010</td>\n",
       "      <td>41.892278</td>\n",
       "      <td>-87.612043</td>\n",
       "      <td>41.870769</td>\n",
       "      <td>-87.625734</td>\n",
       "      <td>member</td>\n",
       "      <td>0 days 00:23:12</td>\n",
       "      <td>5</td>\n",
       "    </tr>\n",
       "    <tr>\n",
       "      <th>3</th>\n",
       "      <td>E97E396331ED6913</td>\n",
       "      <td>electric_bike</td>\n",
       "      <td>2024-05-17 20:21:54</td>\n",
       "      <td>2024-05-17 20:40:32</td>\n",
       "      <td>Streeter Dr &amp; Grand Ave</td>\n",
       "      <td>13022</td>\n",
       "      <td>Sheffield Ave &amp; Wellington Ave</td>\n",
       "      <td>TA1307000052</td>\n",
       "      <td>41.892270</td>\n",
       "      <td>-87.611946</td>\n",
       "      <td>41.936253</td>\n",
       "      <td>-87.652662</td>\n",
       "      <td>member</td>\n",
       "      <td>0 days 00:18:38</td>\n",
       "      <td>6</td>\n",
       "    </tr>\n",
       "    <tr>\n",
       "      <th>4</th>\n",
       "      <td>674EDE311C543165</td>\n",
       "      <td>classic_bike</td>\n",
       "      <td>2024-05-22 18:52:20</td>\n",
       "      <td>2024-05-22 18:59:04</td>\n",
       "      <td>Larrabee St &amp; Division St</td>\n",
       "      <td>KA1504000079</td>\n",
       "      <td>Clark St &amp; Elm St</td>\n",
       "      <td>TA1307000039</td>\n",
       "      <td>41.903486</td>\n",
       "      <td>-87.643353</td>\n",
       "      <td>41.902973</td>\n",
       "      <td>-87.631280</td>\n",
       "      <td>casual</td>\n",
       "      <td>0 days 00:06:44</td>\n",
       "      <td>4</td>\n",
       "    </tr>\n",
       "  </tbody>\n",
       "</table>\n",
       "</div>"
      ],
      "text/plain": [
       "            ride_id  rideable_type          started_at            ended_at  \\\n",
       "0  7D9F0CE9EC2A1297   classic_bike 2024-05-25 15:52:42 2024-05-25 16:11:50   \n",
       "1  02EC47687411416F   classic_bike 2024-05-14 15:11:51 2024-05-14 15:22:00   \n",
       "2  101370FB2D3402BE   classic_bike 2024-05-30 17:46:04 2024-05-30 18:09:16   \n",
       "3  E97E396331ED6913  electric_bike 2024-05-17 20:21:54 2024-05-17 20:40:32   \n",
       "4  674EDE311C543165   classic_bike 2024-05-22 18:52:20 2024-05-22 18:59:04   \n",
       "\n",
       "            start_station_name start_station_id  \\\n",
       "0      Streeter Dr & Grand Ave            13022   \n",
       "1  Sheridan Rd & Greenleaf Ave     KA1504000159   \n",
       "2      Streeter Dr & Grand Ave            13022   \n",
       "3      Streeter Dr & Grand Ave            13022   \n",
       "4    Larrabee St & Division St     KA1504000079   \n",
       "\n",
       "                 end_station_name end_station_id  start_lat  start_lng  \\\n",
       "0               Clark St & Elm St   TA1307000039  41.892278 -87.612043   \n",
       "1        Sheridan Rd & Loyola Ave         RP-009  42.010587 -87.662412   \n",
       "2             Wabash Ave & 9th St   TA1309000010  41.892278 -87.612043   \n",
       "3  Sheffield Ave & Wellington Ave   TA1307000052  41.892270 -87.611946   \n",
       "4               Clark St & Elm St   TA1307000039  41.903486 -87.643353   \n",
       "\n",
       "     end_lat    end_lng member_casual     ride_length  day_of_week  \n",
       "0  41.902973 -87.631280        casual 0 days 00:19:08            7  \n",
       "1  42.001044 -87.661198        casual 0 days 00:10:09            3  \n",
       "2  41.870769 -87.625734        member 0 days 00:23:12            5  \n",
       "3  41.936253 -87.652662        member 0 days 00:18:38            6  \n",
       "4  41.902973 -87.631280        casual 0 days 00:06:44            4  "
      ]
     },
     "execution_count": 5,
     "metadata": {},
     "output_type": "execute_result"
    }
   ],
   "source": [
    "df_dict['df_2405'].head()"
   ]
  },
  {
   "cell_type": "markdown",
   "id": "62bbd86b-61c2-4066-92cc-bd0e3dcfbdad",
   "metadata": {},
   "source": [
    "We added two new columns to the dataset:  \n",
    "- `ride_length` – Calculates the duration of each bike trip  \n",
    "- `day_of_week` – Identifies which day of the week the trip occurred"
   ]
  },
  {
   "cell_type": "code",
   "execution_count": 6,
   "id": "5c8a1899-c25d-4f5c-b8d2-c02addc7e7fb",
   "metadata": {
    "editable": true,
    "slideshow": {
     "slide_type": ""
    },
    "tags": []
   },
   "outputs": [
    {
     "name": "stdout",
     "output_type": "stream",
     "text": [
      "Columns and datatypes in combined_df:\n",
      "<class 'pandas.core.frame.DataFrame'>\n",
      "RangeIndex: 5735884 entries, 0 to 5735883\n",
      "Data columns (total 15 columns):\n",
      " #   Column              Dtype          \n",
      "---  ------              -----          \n",
      " 0   ride_id             object         \n",
      " 1   rideable_type       object         \n",
      " 2   started_at          datetime64[ns] \n",
      " 3   ended_at            datetime64[ns] \n",
      " 4   start_station_name  object         \n",
      " 5   start_station_id    object         \n",
      " 6   end_station_name    object         \n",
      " 7   end_station_id      object         \n",
      " 8   start_lat           float64        \n",
      " 9   start_lng           float64        \n",
      " 10  end_lat             float64        \n",
      " 11  end_lng             float64        \n",
      " 12  member_casual       object         \n",
      " 13  ride_length         timedelta64[ns]\n",
      " 14  day_of_week         int32          \n",
      "dtypes: datetime64[ns](2), float64(4), int32(1), object(7), timedelta64[ns](1)\n",
      "memory usage: 634.5+ MB\n",
      "None\n"
     ]
    }
   ],
   "source": [
    "# Merge the processed dataframes into one\n",
    "combined_df = pd.concat(df_dict.values(), ignore_index=True)\n",
    "\n",
    "print('Columns and datatypes in combined_df:')\n",
    "print(combined_df.info())"
   ]
  },
  {
   "cell_type": "code",
   "execution_count": 7,
   "id": "5b2b1d74-cd21-46a6-91c7-93588f5827c2",
   "metadata": {},
   "outputs": [
    {
     "name": "stdout",
     "output_type": "stream",
     "text": [
      "Max ride length: 1 days 01:59:55.072000\n"
     ]
    }
   ],
   "source": [
    "# Max ride_length\n",
    "max_ride_length = combined_df['ride_length'].max()\n",
    "print(f\"Max ride length: {max_ride_length}\")"
   ]
  },
  {
   "cell_type": "code",
   "execution_count": 8,
   "id": "cc501977-a53b-47a5-9f1f-b4e996b8b9a4",
   "metadata": {},
   "outputs": [
    {
     "name": "stdout",
     "output_type": "stream",
     "text": [
      "Min ride length: -2 days +02:11:41\n"
     ]
    }
   ],
   "source": [
    "# Min ride_length\n",
    "min_ride_length = combined_df['ride_length'].min()\n",
    "print(f\"Min ride length: {min_ride_length}\")"
   ]
  },
  {
   "cell_type": "code",
   "execution_count": 9,
   "id": "ec5c142d-5981-4d65-96e9-241a28a582cd",
   "metadata": {},
   "outputs": [
    {
     "name": "stdout",
     "output_type": "stream",
     "text": [
      "Number of rides shorter than 60 seconds: 126460\n",
      "\n",
      "Sample of rides shorter than 60s:\n",
      "             ride_id          started_at            ended_at     ride_length\n",
      "14  4E578174D37FBFE5 2024-05-09 17:42:22 2024-05-09 17:42:49 0 days 00:00:27\n",
      "16  855A39B703AEEF8D 2024-05-31 12:02:35 2024-05-31 12:02:58 0 days 00:00:23\n",
      "35  31110FB78CB4CDBC 2024-05-07 19:34:58 2024-05-07 19:35:02 0 days 00:00:04\n",
      "38  08547B6E4B7A9940 2024-05-26 03:35:28 2024-05-26 03:35:54 0 days 00:00:26\n",
      "79  CDA5C21070431475 2024-05-29 19:04:14 2024-05-29 19:05:13 0 days 00:00:59\n"
     ]
    }
   ],
   "source": [
    "# Trips < 60s\n",
    "short_rides_df = combined_df[combined_df['ride_length'].dt.total_seconds() < 60]\n",
    "# Count and preview\n",
    "num_short_rides = len(short_rides_df)\n",
    "print(f\"Number of rides shorter than 60 seconds: {num_short_rides}\")\n",
    "print(\"\\nSample of rides shorter than 60s:\")\n",
    "print(short_rides_df[['ride_id', 'started_at', 'ended_at', 'ride_length']].head())"
   ]
  },
  {
   "cell_type": "markdown",
   "id": "536fe21f-b723-4ab2-9cfa-e0a373b1d60f",
   "metadata": {},
   "source": [
    "The shortest recorded trip duration is around `-2 days`, which is not possible. This likely resulted from a data entry error or system malfunction. To ensure data accuracy, we will remove this entry from our analysis, along with any other trips that lasted less than 60 seconds, as these are typically considered outliers or unintentional rides."
   ]
  },
  {
   "cell_type": "code",
   "execution_count": 10,
   "id": "c2ece5ef-c497-4fdc-afac-2f1d376f5626",
   "metadata": {},
   "outputs": [
    {
     "name": "stdout",
     "output_type": "stream",
     "text": [
      "Rows in combined_df: 5735884\n",
      "Rows in filtered_df: 5609424\n",
      "Percent of rows removed: 2.2%\n"
     ]
    }
   ],
   "source": [
    "print(f'Rows in combined_df: {len(combined_df)}')\n",
    "# Remove entries where ride_length < 60s\n",
    "filtered_df = combined_df[combined_df['ride_length'].dt.total_seconds() >= 60]\n",
    "print(f'Rows in filtered_df: {len(filtered_df)}')\n",
    "count_removed_rows = len(combined_df) - len(filtered_df)\n",
    "percent_rows = round((count_removed_rows / len(combined_df)) * 100, 2)\n",
    "print(f'Percent of rows removed: {percent_rows}%')"
   ]
  },
  {
   "cell_type": "markdown",
   "id": "4ceef9ed-fe42-469d-be35-7d28491650ca",
   "metadata": {},
   "source": [
    "As stated by Lyft:\n",
    "    \n",
    "    \"The data has been processed to remove trips that are taken by staff as they service and inspect the system; and any trips that were below 60 seconds in length (potentially false starts or users trying to re-dock a bike to ensure it was secure).\"\n",
    "\n",
    "However, some records with ride durations under 60 seconds were still present in the dataset, suggesting they may have been overlooked. To ensure data quality and consistency, these trips were removed, which resulted in a reduction of approximately 2.2% of total rows. Now that our data has been properly cleaned and processed, we can begin the analysis phase."
   ]
  },
  {
   "cell_type": "markdown",
   "id": "088a6197-1afa-43c8-b8b5-a81e41f46bcf",
   "metadata": {},
   "source": [
    "## 04. ANALYZE - Explore data, perform calculations, identify trends\n",
    "## 05. SHARE - Create supporting visualizations to share findings\n",
    "  \n",
    "**Consider**: How do members vs. casual riders use the bikes differently?"
   ]
  },
  {
   "cell_type": "code",
   "execution_count": 11,
   "id": "4f151f23-4a6f-4bf1-bd3f-91e876634bdd",
   "metadata": {},
   "outputs": [
    {
     "name": "stdout",
     "output_type": "stream",
     "text": [
      "\n",
      "Mean ride length: 0 days 00:17:15.770210115\n"
     ]
    }
   ],
   "source": [
    "# Avg ride_length\n",
    "mean_ride_length = filtered_df['ride_length'].mean()\n",
    "print(f'\\nMean ride length: {mean_ride_length}')"
   ]
  },
  {
   "cell_type": "markdown",
   "id": "448319df-8336-4592-aef4-02444dc7d469",
   "metadata": {},
   "source": [
    "Average ride time was around 17 minutes."
   ]
  },
  {
   "cell_type": "code",
   "execution_count": 12,
   "id": "2c8ed740-11f8-4a52-ac53-3ae3f7335391",
   "metadata": {},
   "outputs": [
    {
     "name": "stdout",
     "output_type": "stream",
     "text": [
      "\n",
      "Mode day of week: 0    7\n",
      "Name: day_of_week, dtype: int32\n"
     ]
    }
   ],
   "source": [
    "# Mode for day of week\n",
    "mode_weekday = filtered_df['day_of_week'].mode()\n",
    "print(f\"\\nMode day of week: {mode_weekday}\")"
   ]
  },
  {
   "cell_type": "markdown",
   "id": "928ac013-a80a-426c-ada3-330aa16e3af7",
   "metadata": {},
   "source": [
    "Saturdays had the most amount of rides."
   ]
  },
  {
   "cell_type": "code",
   "execution_count": 13,
   "id": "bfbb2f8f-5bc4-4e9a-9e80-e0ae376a21e9",
   "metadata": {},
   "outputs": [
    {
     "name": "stdout",
     "output_type": "stream",
     "text": [
      "\n",
      "Total ride count for each day of the week:\n",
      "day_of_week\n",
      "7    880366\n",
      "4    843460\n",
      "6    837583\n",
      "5    805119\n",
      "3    759374\n",
      "2    745493\n",
      "1    738029\n",
      "Name: count, dtype: int64\n"
     ]
    }
   ],
   "source": [
    "# Ride counts for each day\n",
    "print(f'\\nTotal ride count for each day of the week:\\n{filtered_df['day_of_week'].value_counts()}')"
   ]
  },
  {
   "cell_type": "markdown",
   "id": "e21f7cc9-ca6a-43bb-a49a-8c9627ab3902",
   "metadata": {},
   "source": [
    "A quick glance at aspects of our data helps us get a feel for what we're working with, but we need to take a look at distinctions between members and casual riders to answer the business question."
   ]
  },
  {
   "cell_type": "code",
   "execution_count": 14,
   "id": "4b8f5f0d-02f6-43ad-bada-60e3501b855e",
   "metadata": {},
   "outputs": [
    {
     "name": "stdout",
     "output_type": "stream",
     "text": [
      "                 count                       mean                        std  \\\n",
      "member_casual                                                                  \n",
      "casual         2046769  0 days 00:25:18.176360717  0 days 01:28:16.925102589   \n",
      "member         3562655  0 days 00:12:38.624667124  0 days 00:31:11.174766429   \n",
      "\n",
      "                           min                     25%  \\\n",
      "member_casual                                            \n",
      "casual         0 days 00:01:00  0 days 00:07:01.548000   \n",
      "member         0 days 00:01:00  0 days 00:05:11.887000   \n",
      "\n",
      "                                  50%                     75%  \\\n",
      "member_casual                                                   \n",
      "casual         0 days 00:12:19.560000  0 days 00:22:58.038000   \n",
      "member         0 days 00:08:45.488000  0 days 00:14:48.094500   \n",
      "\n",
      "                                  max  \n",
      "member_casual                          \n",
      "casual         1 days 01:59:55.072000  \n",
      "member         1 days 00:59:58.097000  \n"
     ]
    }
   ],
   "source": [
    "# Group by summary stats\n",
    "print(filtered_df.groupby('member_casual')['ride_length'].describe())"
   ]
  },
  {
   "cell_type": "markdown",
   "id": "c7e0a1a7-6766-4cbf-be18-b4e99e37fc87",
   "metadata": {},
   "source": [
    "This tells us a few things:\n",
    "- The majority of rides are taken by members\n",
    "- Casual riders ride for a longer amount of time than members on average (~25 min vs 12 min)\n",
    "- Members are more consistent in the length of their trips than casual riders\n",
    "- For casual riders the average is much higher than the median, which suggests some long rides are skewing the average\n",
    "    - This is the case for both rider types where the longest trip took over 1 day\n",
    "    - Maybe a ride that was never ended or the user forgot to dock the bike"
   ]
  },
  {
   "cell_type": "markdown",
   "id": "d896596d-5c6c-43bd-8c83-ad147b818b9d",
   "metadata": {},
   "source": [
    "We can split the dataframe into two different sets for members and casual riders for further exploration."
   ]
  },
  {
   "cell_type": "code",
   "execution_count": 15,
   "id": "de6ce75b-ba74-4d4d-b1f1-1a81f48cc86e",
   "metadata": {},
   "outputs": [],
   "source": [
    "member_df = filtered_df[filtered_df['member_casual'] == 'member'].copy() # Filter for members\n",
    "casual_df = filtered_df[filtered_df['member_casual'] == 'casual'].copy() # Filter for casual riders"
   ]
  },
  {
   "cell_type": "markdown",
   "id": "1bd455f4-2fcc-4802-a6a1-459fb6c6c9c8",
   "metadata": {},
   "source": [
    "### Members vs. Casual Riders Trends"
   ]
  },
  {
   "cell_type": "markdown",
   "id": "ac932ca2-20c2-416e-b4e2-188b61afbb43",
   "metadata": {},
   "source": [
    "#### Month Counts"
   ]
  },
  {
   "cell_type": "code",
   "execution_count": 16,
   "id": "2b57b44d-94a0-4fa4-8ad8-ee28551b63a5",
   "metadata": {},
   "outputs": [
    {
     "name": "stdout",
     "output_type": "stream",
     "text": [
      "\n",
      "Most active months for members:\n",
      "start_month\n",
      "9     465705\n",
      "8     430437\n",
      "7     422035\n",
      "6     402196\n",
      "10    394751\n",
      "5     370195\n",
      "4     257943\n",
      "11    238823\n",
      "3     208500\n",
      "12    137600\n",
      "2     122118\n",
      "1     112352\n",
      "Name: count, dtype: int64\n"
     ]
    }
   ],
   "source": [
    "member_df['start_month'] = member_df['started_at'].dt.month\n",
    "member_month_counts = member_df['start_month'].value_counts()\n",
    "print(f'\\nMost active months for members:\\n{member_month_counts}')"
   ]
  },
  {
   "cell_type": "code",
   "execution_count": 17,
   "id": "5c323cac-06fe-46fa-8a84-0c1c94ec52d9",
   "metadata": {},
   "outputs": [
    {
     "name": "stdout",
     "output_type": "stream",
     "text": [
      "\n",
      "Most active months for casual riders:\n",
      "start_month\n",
      "9     334863\n",
      "7     310508\n",
      "8     308427\n",
      "6     290953\n",
      "5     223935\n",
      "10    210743\n",
      "4     105501\n",
      "11     90805\n",
      "3      83064\n",
      "12     37466\n",
      "2      27051\n",
      "1      23453\n",
      "Name: count, dtype: int64\n"
     ]
    }
   ],
   "source": [
    "casual_df['start_month'] = casual_df['started_at'].dt.month\n",
    "casual_month_counts = casual_df['start_month'].value_counts()\n",
    "print(f'\\nMost active months for casual riders:\\n{casual_month_counts}')"
   ]
  },
  {
   "cell_type": "code",
   "execution_count": 18,
   "id": "daf74870-c674-41f8-a3d1-c74bedf6a617",
   "metadata": {},
   "outputs": [
    {
     "data": {
      "image/png": "[encoded data removed]",
      "text/plain": [
       "<Figure size 700x400 with 1 Axes>"
      ]
     },
     "metadata": {},
     "output_type": "display_data"
    }
   ],
   "source": [
    "# Sort day counts by day index (1 = Sun to 7 = Sat)\n",
    "member_month_counts = member_month_counts.sort_index()\n",
    "casual_month_counts = casual_month_counts.sort_index()\n",
    "\n",
    "# X-axis positions\n",
    "months = np.array(range(1, 13))  # Days 1 through 7\n",
    "bar_width = 0.4\n",
    "\n",
    "# Plot\n",
    "plt.figure(figsize=(7, 4))\n",
    "plt.bar(months - bar_width/2, member_month_counts.values, width=bar_width, label='Members', color='orange')\n",
    "plt.bar(months + bar_width/2, casual_month_counts.values, width=bar_width, label='Casual Riders', color='teal')\n",
    "plt.xlabel('Month')\n",
    "plt.ylabel('Number of Rides')\n",
    "plt.title('Monthly Ride Distribution: Members vs Casual Riders')\n",
    "plt.xticks(range(1, 13))\n",
    "plt.grid(axis='y', linestyle='--', alpha=0.7)\n",
    "plt.legend()\n",
    "plt.tight_layout()\n",
    "plt.show()"
   ]
  },
  {
   "cell_type": "markdown",
   "id": "535da163-5697-4ddf-a8af-23e5a8108c4a",
   "metadata": {},
   "source": [
    "The monthly ride distribution follows a similar pattern for both groups, with peaks in the summer and fall and fewer rides during the winter months. This trend is likely a result of seasonal changes in weather and riding conditions.\n",
    "\n",
    "It's important to note that members have a higher total ride count across all months because members make up more than 60% of the data. To meaningfully compare behaviors between groups, we need to use a normalized version of the chart that accounts for differences in group sizes and highlights relative trends."
   ]
  },
  {
   "cell_type": "code",
   "execution_count": 19,
   "id": "73d2e023-9cc9-45af-97b8-bd49d384fa1d",
   "metadata": {},
   "outputs": [
    {
     "data": {
      "image/png": "[encoded data removed]",
      "text/plain": [
       "<Figure size 700x400 with 1 Axes>"
      ]
     },
     "metadata": {},
     "output_type": "display_data"
    }
   ],
   "source": [
    "# Sort months in order\n",
    "member_month_counts = member_month_counts.sort_index()\n",
    "casual_month_counts = casual_month_counts.sort_index()\n",
    "# Normalize monthly counts\n",
    "member_month_pct = member_month_counts / member_month_counts.sum()\n",
    "casual_month_pct = casual_month_counts / casual_month_counts.sum()\n",
    "\n",
    "# X-axis positions\n",
    "months = np.array(range(1, 13))  # Days 1 through 7\n",
    "bar_width = 0.4\n",
    "\n",
    "# Plot\n",
    "plt.figure(figsize=(7, 4))\n",
    "plt.bar(months - bar_width/2, member_month_pct.values, width=bar_width, label='Members (%)', color='orange')\n",
    "plt.bar(months + bar_width/2, casual_month_pct.values, width=bar_width, label='Casual Riders (%)', color='teal')\n",
    "plt.xlabel('Month')\n",
    "plt.ylabel('Share of Rides (%)')\n",
    "plt.title('Normalized Monthly Ride Distribution: Members vs Casual Riders')\n",
    "plt.xticks(range(1, 13))\n",
    "plt.grid(axis='y', linestyle='--', alpha=0.7)\n",
    "plt.legend()\n",
    "plt.gca().yaxis.set_major_formatter(mtick.PercentFormatter(1.0))\n",
    "plt.tight_layout()\n",
    "plt.show()"
   ]
  },
  {
   "cell_type": "markdown",
   "id": "d2778c48-2a35-41a9-ace9-36d9fe35cc9e",
   "metadata": {},
   "source": [
    "In this normalized version, casual riders show a higher proportion of their annual rides occurring in the summer and fall compared to members. In contrast, members have a higher proportion during the winter. This suggests a more need-basis for members, even during months with poor weather conditions, whereas casual riders are more likely to ride for leisure and during more favorable weather."
   ]
  },
  {
   "cell_type": "markdown",
   "id": "4ef9142b-9489-4afe-81af-f777d7f2ef14",
   "metadata": {},
   "source": [
    "#### Day Counts"
   ]
  },
  {
   "cell_type": "code",
   "execution_count": 20,
   "id": "05ab6744-c103-4fab-b149-ad28405c603d",
   "metadata": {},
   "outputs": [
    {
     "name": "stdout",
     "output_type": "stream",
     "text": [
      "Most popular days for members\n",
      "day_of_week\n",
      "4    584841\n",
      "5    549740\n",
      "3    541570\n",
      "6    522291\n",
      "2    507933\n",
      "7    460932\n",
      "1    395348\n",
      "Name: count, dtype: int64\n"
     ]
    }
   ],
   "source": [
    "print('Most popular days for members')\n",
    "member_day_counts = member_df['day_of_week'].value_counts()\n",
    "print(member_day_counts)"
   ]
  },
  {
   "cell_type": "markdown",
   "id": "484b2ed4-b04f-4d4c-a034-c72f59f549ba",
   "metadata": {},
   "source": [
    "Members prefer to use bikes during the week with Wednesdays having the highest count."
   ]
  },
  {
   "cell_type": "code",
   "execution_count": 21,
   "id": "1a9db9bb-0697-4896-b4fd-97ca57d5549c",
   "metadata": {},
   "outputs": [
    {
     "name": "stdout",
     "output_type": "stream",
     "text": [
      "Most popular days for casual riders\n",
      "day_of_week\n",
      "7    419434\n",
      "1    342681\n",
      "6    315292\n",
      "4    258619\n",
      "5    255379\n",
      "2    237560\n",
      "3    217804\n",
      "Name: count, dtype: int64\n"
     ]
    }
   ],
   "source": [
    "# Calculate most active days for both groups\n",
    "print('Most popular days for casual riders')\n",
    "casual_day_counts = casual_df['day_of_week'].value_counts()\n",
    "print(casual_day_counts)"
   ]
  },
  {
   "cell_type": "markdown",
   "id": "88de171b-a5f0-4ebf-92ef-098db7d44cbf",
   "metadata": {},
   "source": [
    "Weekends are favored amongst casual riders with Saturdays having the highest count."
   ]
  },
  {
   "cell_type": "markdown",
   "id": "d461a495-d37a-43b4-a67c-8cbebf3bf487",
   "metadata": {},
   "source": [
    "Similarly to looking at the months, we need to look at the normalized version of daily rides."
   ]
  },
  {
   "cell_type": "code",
   "execution_count": 22,
   "id": "9c3f9823-a5f0-4a1e-95c0-e1c8f2fe21c9",
   "metadata": {},
   "outputs": [
    {
     "data": {
      "image/png": "[encoded data removed]",
      "text/plain": [
       "<Figure size 700x400 with 1 Axes>"
      ]
     },
     "metadata": {},
     "output_type": "display_data"
    }
   ],
   "source": [
    "# Sort day counts by day index (1=Mon to 7=Sun or similar)\n",
    "member_day_counts = member_day_counts.sort_index()\n",
    "casual_day_counts = casual_day_counts.sort_index()\n",
    "\n",
    "# Normalize to get share of weekly rides\n",
    "member_day_pct = (member_day_counts / member_day_counts.sum()) * 100\n",
    "casual_day_pct = (casual_day_counts / casual_day_counts.sum()) * 100\n",
    "\n",
    "# X-axis positions\n",
    "days = np.array(range(1, 8))  # Days 1 through 7\n",
    "bar_width = 0.4\n",
    "\n",
    "# Plot\n",
    "plt.figure(figsize=(7, 4))\n",
    "plt.bar(days - bar_width/2, member_day_pct.values, width=bar_width, label='Members (%)', color='orange')\n",
    "plt.bar(days + bar_width/2, casual_day_pct.values, width=bar_width, label='Casual Riders (%)', color='teal')\n",
    "\n",
    "# Labels and title\n",
    "plt.xlabel('Day of the Week')\n",
    "plt.ylabel('Share of Rides (%)')\n",
    "plt.title('Normalized Daily Ride Distribution: Members vs Casual Riders')\n",
    "plt.xticks(days, ['Sun','Mon', 'Tue', 'Wed', 'Thu', 'Fri', 'Sat'])\n",
    "plt.grid(axis='y', linestyle='--', alpha=0.7)\n",
    "plt.legend()\n",
    "plt.tight_layout()\n",
    "plt.show()\n"
   ]
  },
  {
   "cell_type": "markdown",
   "id": "55bd8e4d-14e0-41a0-be05-c6ddeeef057b",
   "metadata": {},
   "source": [
    "Members tend to ride more consistently throughout the workweek, peaking mid-week on Wednesdays. In contrast, casual riders show a strong preference for weekends, with Saturdays accounting for over 20% of their weekly rides. This pattern reinforces the idea that casual users likely ride for leisure, while members use the service more for commuting or routine travel."
   ]
  },
  {
   "cell_type": "markdown",
   "id": "e702c606-156d-4440-bae1-486f459ddfe2",
   "metadata": {},
   "source": [
    "#### Hour Counts"
   ]
  },
  {
   "cell_type": "code",
   "execution_count": 23,
   "id": "7a0e320e-744e-4b70-b3f2-a4c52e6b3337",
   "metadata": {},
   "outputs": [
    {
     "name": "stdout",
     "output_type": "stream",
     "text": [
      "\n",
      "Most common start times for members:\n",
      "start_hour\n",
      "17    377426\n",
      "16    330876\n",
      "18    295432\n",
      "8     248138\n",
      "15    240686\n",
      "19    207280\n",
      "12    195224\n",
      "7     194217\n",
      "14    194174\n",
      "13    193772\n",
      "11    171613\n",
      "9     168736\n",
      "10    147271\n",
      "20    144364\n",
      "21    111186\n",
      "6      99700\n",
      "22     80579\n",
      "23     50528\n",
      "5      33601\n",
      "0      31354\n",
      "1      19342\n",
      "2      11075\n",
      "4       8375\n",
      "3       7706\n",
      "Name: count, dtype: int64\n"
     ]
    }
   ],
   "source": [
    "member_df['start_hour'] = member_df['started_at'].dt.hour\n",
    "member_hour_counts = member_df['start_hour'].value_counts()\n",
    "print(f'\\nMost common start times for members:\\n{member_hour_counts}')"
   ]
  },
  {
   "cell_type": "code",
   "execution_count": 24,
   "id": "e09b0289-924d-4100-b285-c2176420f129",
   "metadata": {},
   "outputs": [
    {
     "name": "stdout",
     "output_type": "stream",
     "text": [
      "\n",
      "Most common start times for casual riders:\n",
      "start_hour\n",
      "17    194346\n",
      "16    180979\n",
      "18    166605\n",
      "15    160368\n",
      "14    145236\n",
      "13    139198\n",
      "12    134008\n",
      "19    122215\n",
      "11    114350\n",
      "10     89692\n",
      "20     89625\n",
      "21     74400\n",
      "9      73615\n",
      "8      73556\n",
      "22     65035\n",
      "7      52083\n",
      "23     45554\n",
      "0      34202\n",
      "6      28229\n",
      "1      22874\n",
      "2      14425\n",
      "5      11639\n",
      "3       8054\n",
      "4       6481\n",
      "Name: count, dtype: int64\n"
     ]
    }
   ],
   "source": [
    "# Calculate most active hours for both groups\n",
    "casual_df['start_hour'] = casual_df['started_at'].dt.hour\n",
    "casual_hour_counts = casual_df['start_hour'].value_counts()\n",
    "print(f'\\nMost common start times for casual riders:\\n{casual_hour_counts}')"
   ]
  },
  {
   "cell_type": "code",
   "execution_count": 25,
   "id": "639845e6-4440-41ba-92a9-e1ee94e98466",
   "metadata": {},
   "outputs": [
    {
     "data": {
      "image/png": "[encoded data removed]",
      "text/plain": [
       "<Figure size 700x400 with 1 Axes>"
      ]
     },
     "metadata": {},
     "output_type": "display_data"
    }
   ],
   "source": [
    "member_hour_counts = member_hour_counts.sort_index()\n",
    "casual_hour_counts = casual_hour_counts.sort_index()\n",
    "\n",
    "# Normalize to percent of total rides per group\n",
    "member_hour_pct = (member_hour_counts / member_hour_counts.sum()) * 100\n",
    "casual_hour_pct = (casual_hour_counts / casual_hour_counts.sum()) * 100\n",
    "\n",
    "# Plot\n",
    "plt.figure(figsize=(7, 4))\n",
    "plt.plot(member_hour_pct.index, member_hour_pct.values, marker='o', label='Members (%)', color='orange')\n",
    "plt.plot(casual_hour_pct.index, casual_hour_pct.values, marker='o', label='Casual Riders (%)', color='teal')\n",
    "\n",
    "plt.xlabel('Hour of Day')\n",
    "plt.ylabel('Share of Rides (%)')\n",
    "plt.title('Normalized Hourly Ride Distribution: Members vs Casual Riders')\n",
    "plt.xticks(range(0, 24))\n",
    "plt.grid(axis='y', linestyle='--', alpha=0.7)\n",
    "plt.legend()\n",
    "plt.tight_layout()\n",
    "plt.show()"
   ]
  },
  {
   "cell_type": "markdown",
   "id": "b85c32c1-ada8-4ae4-8813-4e1b01d3484c",
   "metadata": {},
   "source": [
    "Both groups prefer to ride at similar hours. We see a peak in afternoon times around 5 PM for both members and casual riders. However, one distinction is that there is another peak in the morning around 8 AM as well for members, while the proportion of rides for casual riders is lower."
   ]
  },
  {
   "cell_type": "markdown",
   "id": "bc5a8623-bec6-4446-8ee0-0925ce381283",
   "metadata": {},
   "source": [
    "By analyzing the data by month, day of week, and hour of day, the data suggests that members are more likely using the bikes for commuting purposes whereas casual riders exhibit patterns indicating leisure-based usage."
   ]
  },
  {
   "cell_type": "markdown",
   "id": "46343d1f-5f97-4a2a-9feb-aca36a91747a",
   "metadata": {},
   "source": [
    "#### Ride Types"
   ]
  },
  {
   "cell_type": "code",
   "execution_count": 26,
   "id": "5a8f129a-4401-49af-be84-f9994b66abbf",
   "metadata": {},
   "outputs": [
    {
     "name": "stdout",
     "output_type": "stream",
     "text": [
      "\n",
      "Most popular ride types for members:\n",
      "rideable_type\n",
      "electric_bike       1900159\n",
      "classic_bike        1606362\n",
      "electric_scooter      56134\n",
      "Name: count, dtype: int64\n"
     ]
    }
   ],
   "source": [
    "member_ridetype_counts = member_df['rideable_type'].value_counts()\n",
    "print(f'\\nMost popular ride types for members:\\n{member_ridetype_counts}')"
   ]
  },
  {
   "cell_type": "code",
   "execution_count": 27,
   "id": "0fe9097a-c298-49a6-b8ec-ce4b93fe4760",
   "metadata": {},
   "outputs": [
    {
     "name": "stdout",
     "output_type": "stream",
     "text": [
      "\n",
      "Most popular ride types for casual riders:\n",
      "rideable_type\n",
      "electric_bike       1042811\n",
      "classic_bike         922508\n",
      "electric_scooter      81450\n",
      "Name: count, dtype: int64\n"
     ]
    }
   ],
   "source": [
    "# Calculate most popular ride type for both groups\n",
    "casual_ridetype_counts = casual_df['rideable_type'].value_counts()\n",
    "print(f'\\nMost popular ride types for casual riders:\\n{casual_ridetype_counts}')"
   ]
  },
  {
   "cell_type": "markdown",
   "id": "3ac7bec2-5742-41aa-aa6f-772e48d341cb",
   "metadata": {},
   "source": [
    "Electric bikes were most popular amongst both groups most likely for their speed and ease of use."
   ]
  }
 ],
 "metadata": {
  "kernelspec": {
   "display_name": "Python 3 (ipykernel)",
   "language": "python",
   "name": "python3"
  },
  "language_info": {
   "codemirror_mode": {
    "name": "ipython",
    "version": 3
   },
   "file_extension": ".py",
   "mimetype": "text/x-python",
   "name": "python",
   "nbconvert_exporter": "python",
   "pygments_lexer": "ipython3",
   "version": "3.12.6"
  }
 },
 "nbformat": 4,
 "nbformat_minor": 5
}
